{
 "cells": [
  {
   "cell_type": "markdown",
   "id": "c713467b",
   "metadata": {},
   "source": [
    "## Faezeh Yazdi Capstone Project - Food Recomendation System\n",
    "\n",
    "## Notebook : Review Data cleaning\n",
    "This notebook aims to clean the second dataset, investigate data and do EDA.\n",
    "\n",
    "\n",
    "- Reviews <br>\n",
    "The reviews dataset contains 1,401,982 reviews from 271,907 different users. This dataset provides information about the author, rating, review text, and more."
   ]
  },
  {
   "cell_type": "code",
   "execution_count": 1,
   "id": "b907d770",
   "metadata": {},
   "outputs": [],
   "source": [
    "import pandas as pd\n",
    "import numpy as np\n",
    "import seaborn as sns\n",
    "import matplotlib.pyplot as plt"
   ]
  },
  {
   "cell_type": "code",
   "execution_count": 2,
   "id": "201bb88e",
   "metadata": {},
   "outputs": [],
   "source": [
    "df = pd.read_parquet(\"Raw Data/reviews.parquet\")\n",
    "#df = pd.read_parquet(\"Raw Data/reviews.parquet\")"
   ]
  },
  {
   "cell_type": "code",
   "execution_count": 3,
   "id": "e3c6b806",
   "metadata": {},
   "outputs": [
    {
     "data": {
      "text/plain": [
       "(1401982, 8)"
      ]
     },
     "execution_count": 3,
     "metadata": {},
     "output_type": "execute_result"
    }
   ],
   "source": [
    "# dataset size\n",
    "df.shape"
   ]
  },
  {
   "cell_type": "code",
   "execution_count": 4,
   "id": "37d180e6",
   "metadata": {},
   "outputs": [
    {
     "data": {
      "text/html": [
       "<div>\n",
       "<style scoped>\n",
       "    .dataframe tbody tr th:only-of-type {\n",
       "        vertical-align: middle;\n",
       "    }\n",
       "\n",
       "    .dataframe tbody tr th {\n",
       "        vertical-align: top;\n",
       "    }\n",
       "\n",
       "    .dataframe thead th {\n",
       "        text-align: right;\n",
       "    }\n",
       "</style>\n",
       "<table border=\"1\" class=\"dataframe\">\n",
       "  <thead>\n",
       "    <tr style=\"text-align: right;\">\n",
       "      <th></th>\n",
       "      <th>ReviewId</th>\n",
       "      <th>RecipeId</th>\n",
       "      <th>AuthorId</th>\n",
       "      <th>AuthorName</th>\n",
       "      <th>Rating</th>\n",
       "      <th>Review</th>\n",
       "      <th>DateSubmitted</th>\n",
       "      <th>DateModified</th>\n",
       "    </tr>\n",
       "  </thead>\n",
       "  <tbody>\n",
       "    <tr>\n",
       "      <th>0</th>\n",
       "      <td>2</td>\n",
       "      <td>992</td>\n",
       "      <td>2008</td>\n",
       "      <td>gayg msft</td>\n",
       "      <td>5</td>\n",
       "      <td>better than any you can get at a restaurant!</td>\n",
       "      <td>2000-01-25 21:44:00+00:00</td>\n",
       "      <td>2000-01-25 21:44:00+00:00</td>\n",
       "    </tr>\n",
       "    <tr>\n",
       "      <th>1</th>\n",
       "      <td>7</td>\n",
       "      <td>4384</td>\n",
       "      <td>1634</td>\n",
       "      <td>Bill Hilbrich</td>\n",
       "      <td>4</td>\n",
       "      <td>I cut back on the mayo, and made up the differ...</td>\n",
       "      <td>2001-10-17 16:49:59+00:00</td>\n",
       "      <td>2001-10-17 16:49:59+00:00</td>\n",
       "    </tr>\n",
       "  </tbody>\n",
       "</table>\n",
       "</div>"
      ],
      "text/plain": [
       "   ReviewId  RecipeId  AuthorId     AuthorName  Rating  \\\n",
       "0         2       992      2008      gayg msft       5   \n",
       "1         7      4384      1634  Bill Hilbrich       4   \n",
       "\n",
       "                                              Review  \\\n",
       "0       better than any you can get at a restaurant!   \n",
       "1  I cut back on the mayo, and made up the differ...   \n",
       "\n",
       "              DateSubmitted              DateModified  \n",
       "0 2000-01-25 21:44:00+00:00 2000-01-25 21:44:00+00:00  \n",
       "1 2001-10-17 16:49:59+00:00 2001-10-17 16:49:59+00:00  "
      ]
     },
     "execution_count": 4,
     "metadata": {},
     "output_type": "execute_result"
    }
   ],
   "source": [
    "df.head(2)"
   ]
  },
  {
   "cell_type": "markdown",
   "id": "37aa0678",
   "metadata": {},
   "source": [
    "## Duplicates\n",
    "\n",
    "**Duplicate Rows**\n",
    "Lets check if we have any duplicate rows in our data. \n",
    "First we set the ReviewId as the index, to check the duplication other columns rather than ReviewId."
   ]
  },
  {
   "cell_type": "code",
   "execution_count": 5,
   "id": "8a787fa8",
   "metadata": {},
   "outputs": [
    {
     "data": {
      "text/html": [
       "<div>\n",
       "<style scoped>\n",
       "    .dataframe tbody tr th:only-of-type {\n",
       "        vertical-align: middle;\n",
       "    }\n",
       "\n",
       "    .dataframe tbody tr th {\n",
       "        vertical-align: top;\n",
       "    }\n",
       "\n",
       "    .dataframe thead th {\n",
       "        text-align: right;\n",
       "    }\n",
       "</style>\n",
       "<table border=\"1\" class=\"dataframe\">\n",
       "  <thead>\n",
       "    <tr style=\"text-align: right;\">\n",
       "      <th></th>\n",
       "      <th>RecipeId</th>\n",
       "      <th>AuthorId</th>\n",
       "      <th>AuthorName</th>\n",
       "      <th>Rating</th>\n",
       "      <th>Review</th>\n",
       "      <th>DateSubmitted</th>\n",
       "      <th>DateModified</th>\n",
       "    </tr>\n",
       "    <tr>\n",
       "      <th>ReviewId</th>\n",
       "      <th></th>\n",
       "      <th></th>\n",
       "      <th></th>\n",
       "      <th></th>\n",
       "      <th></th>\n",
       "      <th></th>\n",
       "      <th></th>\n",
       "    </tr>\n",
       "  </thead>\n",
       "  <tbody>\n",
       "    <tr>\n",
       "      <th>2</th>\n",
       "      <td>992</td>\n",
       "      <td>2008</td>\n",
       "      <td>gayg msft</td>\n",
       "      <td>5</td>\n",
       "      <td>better than any you can get at a restaurant!</td>\n",
       "      <td>2000-01-25 21:44:00+00:00</td>\n",
       "      <td>2000-01-25 21:44:00+00:00</td>\n",
       "    </tr>\n",
       "    <tr>\n",
       "      <th>7</th>\n",
       "      <td>4384</td>\n",
       "      <td>1634</td>\n",
       "      <td>Bill Hilbrich</td>\n",
       "      <td>4</td>\n",
       "      <td>I cut back on the mayo, and made up the differ...</td>\n",
       "      <td>2001-10-17 16:49:59+00:00</td>\n",
       "      <td>2001-10-17 16:49:59+00:00</td>\n",
       "    </tr>\n",
       "    <tr>\n",
       "      <th>9</th>\n",
       "      <td>4523</td>\n",
       "      <td>2046</td>\n",
       "      <td>Gay Gilmore ckpt</td>\n",
       "      <td>2</td>\n",
       "      <td>i think i did something wrong because i could ...</td>\n",
       "      <td>2000-02-25 09:00:00+00:00</td>\n",
       "      <td>2000-02-25 09:00:00+00:00</td>\n",
       "    </tr>\n",
       "    <tr>\n",
       "      <th>13</th>\n",
       "      <td>7435</td>\n",
       "      <td>1773</td>\n",
       "      <td>Malarkey Test</td>\n",
       "      <td>5</td>\n",
       "      <td>easily the best i have ever had.  juicy flavor...</td>\n",
       "      <td>2000-03-13 21:15:00+00:00</td>\n",
       "      <td>2000-03-13 21:15:00+00:00</td>\n",
       "    </tr>\n",
       "    <tr>\n",
       "      <th>14</th>\n",
       "      <td>44</td>\n",
       "      <td>2085</td>\n",
       "      <td>Tony Small</td>\n",
       "      <td>5</td>\n",
       "      <td>An excellent dish.</td>\n",
       "      <td>2000-03-28 12:51:00+00:00</td>\n",
       "      <td>2000-03-28 12:51:00+00:00</td>\n",
       "    </tr>\n",
       "    <tr>\n",
       "      <th>...</th>\n",
       "      <td>...</td>\n",
       "      <td>...</td>\n",
       "      <td>...</td>\n",
       "      <td>...</td>\n",
       "      <td>...</td>\n",
       "      <td>...</td>\n",
       "      <td>...</td>\n",
       "    </tr>\n",
       "    <tr>\n",
       "      <th>2090339</th>\n",
       "      <td>139499</td>\n",
       "      <td>2002080368</td>\n",
       "      <td>terrylbiggs</td>\n",
       "      <td>2</td>\n",
       "      <td>I was disappointed. I couldn't wait to make th...</td>\n",
       "      <td>2020-12-27 23:57:54+00:00</td>\n",
       "      <td>2020-12-27 23:57:54+00:00</td>\n",
       "    </tr>\n",
       "    <tr>\n",
       "      <th>2090340</th>\n",
       "      <td>148484</td>\n",
       "      <td>41805321</td>\n",
       "      <td>rogerberry</td>\n",
       "      <td>5</td>\n",
       "      <td>Nothing to drain. And I don’t heat up the liqu...</td>\n",
       "      <td>2020-12-28 00:44:42+00:00</td>\n",
       "      <td>2020-12-28 00:44:42+00:00</td>\n",
       "    </tr>\n",
       "    <tr>\n",
       "      <th>2090341</th>\n",
       "      <td>264191</td>\n",
       "      <td>2002901848</td>\n",
       "      <td>Reiketsukan 6.</td>\n",
       "      <td>5</td>\n",
       "      <td>Good base recipe for someone to start with. I ...</td>\n",
       "      <td>2020-12-28 01:04:43+00:00</td>\n",
       "      <td>2020-12-28 01:04:43+00:00</td>\n",
       "    </tr>\n",
       "    <tr>\n",
       "      <th>2090345</th>\n",
       "      <td>411791</td>\n",
       "      <td>2002901938</td>\n",
       "      <td>Sue M.</td>\n",
       "      <td>5</td>\n",
       "      <td>Thank you so much for this amazing recipe! I l...</td>\n",
       "      <td>2020-12-28 03:07:10+00:00</td>\n",
       "      <td>2020-12-28 03:07:10+00:00</td>\n",
       "    </tr>\n",
       "    <tr>\n",
       "      <th>2090347</th>\n",
       "      <td>352686</td>\n",
       "      <td>2002812127</td>\n",
       "      <td>dede25cory</td>\n",
       "      <td>5</td>\n",
       "      <td>I can't say enough about this recipe.... the b...</td>\n",
       "      <td>2020-12-28 03:23:48+00:00</td>\n",
       "      <td>2020-12-28 03:23:48+00:00</td>\n",
       "    </tr>\n",
       "  </tbody>\n",
       "</table>\n",
       "<p>1401982 rows × 7 columns</p>\n",
       "</div>"
      ],
      "text/plain": [
       "          RecipeId    AuthorId        AuthorName  Rating  \\\n",
       "ReviewId                                                   \n",
       "2              992        2008         gayg msft       5   \n",
       "7             4384        1634     Bill Hilbrich       4   \n",
       "9             4523        2046  Gay Gilmore ckpt       2   \n",
       "13            7435        1773     Malarkey Test       5   \n",
       "14              44        2085        Tony Small       5   \n",
       "...            ...         ...               ...     ...   \n",
       "2090339     139499  2002080368       terrylbiggs       2   \n",
       "2090340     148484    41805321        rogerberry       5   \n",
       "2090341     264191  2002901848    Reiketsukan 6.       5   \n",
       "2090345     411791  2002901938            Sue M.       5   \n",
       "2090347     352686  2002812127        dede25cory       5   \n",
       "\n",
       "                                                     Review  \\\n",
       "ReviewId                                                      \n",
       "2              better than any you can get at a restaurant!   \n",
       "7         I cut back on the mayo, and made up the differ...   \n",
       "9         i think i did something wrong because i could ...   \n",
       "13        easily the best i have ever had.  juicy flavor...   \n",
       "14                                       An excellent dish.   \n",
       "...                                                     ...   \n",
       "2090339   I was disappointed. I couldn't wait to make th...   \n",
       "2090340   Nothing to drain. And I don’t heat up the liqu...   \n",
       "2090341   Good base recipe for someone to start with. I ...   \n",
       "2090345   Thank you so much for this amazing recipe! I l...   \n",
       "2090347   I can't say enough about this recipe.... the b...   \n",
       "\n",
       "                     DateSubmitted              DateModified  \n",
       "ReviewId                                                      \n",
       "2        2000-01-25 21:44:00+00:00 2000-01-25 21:44:00+00:00  \n",
       "7        2001-10-17 16:49:59+00:00 2001-10-17 16:49:59+00:00  \n",
       "9        2000-02-25 09:00:00+00:00 2000-02-25 09:00:00+00:00  \n",
       "13       2000-03-13 21:15:00+00:00 2000-03-13 21:15:00+00:00  \n",
       "14       2000-03-28 12:51:00+00:00 2000-03-28 12:51:00+00:00  \n",
       "...                            ...                       ...  \n",
       "2090339  2020-12-27 23:57:54+00:00 2020-12-27 23:57:54+00:00  \n",
       "2090340  2020-12-28 00:44:42+00:00 2020-12-28 00:44:42+00:00  \n",
       "2090341  2020-12-28 01:04:43+00:00 2020-12-28 01:04:43+00:00  \n",
       "2090345  2020-12-28 03:07:10+00:00 2020-12-28 03:07:10+00:00  \n",
       "2090347  2020-12-28 03:23:48+00:00 2020-12-28 03:23:48+00:00  \n",
       "\n",
       "[1401982 rows x 7 columns]"
      ]
     },
     "execution_count": 5,
     "metadata": {},
     "output_type": "execute_result"
    }
   ],
   "source": [
    "# set the index as ReviewId\n",
    "df.set_index(\"ReviewId\")"
   ]
  },
  {
   "cell_type": "code",
   "execution_count": 6,
   "id": "e3ea28e7",
   "metadata": {},
   "outputs": [
    {
     "data": {
      "text/plain": [
       "0"
      ]
     },
     "execution_count": 6,
     "metadata": {},
     "output_type": "execute_result"
    }
   ],
   "source": [
    "#number of duplicated rows\n",
    "df.duplicated().sum()"
   ]
  },
  {
   "cell_type": "markdown",
   "id": "2d1c7e93",
   "metadata": {},
   "source": [
    "Fortunately there is no duplicated information in our table. Lets check the columns information.<br>\n",
    "<br>\n",
    "**Duplicate columns**<br>\n",
    "It seems that DateModified and DateSubmitted columns have similar information. lets check if they are all the same."
   ]
  },
  {
   "cell_type": "code",
   "execution_count": 7,
   "id": "5c730cd7",
   "metadata": {},
   "outputs": [
    {
     "data": {
      "text/html": [
       "<div>\n",
       "<style scoped>\n",
       "    .dataframe tbody tr th:only-of-type {\n",
       "        vertical-align: middle;\n",
       "    }\n",
       "\n",
       "    .dataframe tbody tr th {\n",
       "        vertical-align: top;\n",
       "    }\n",
       "\n",
       "    .dataframe thead th {\n",
       "        text-align: right;\n",
       "    }\n",
       "</style>\n",
       "<table border=\"1\" class=\"dataframe\">\n",
       "  <thead>\n",
       "    <tr style=\"text-align: right;\">\n",
       "      <th></th>\n",
       "      <th>ReviewId</th>\n",
       "      <th>RecipeId</th>\n",
       "      <th>AuthorId</th>\n",
       "      <th>AuthorName</th>\n",
       "      <th>Rating</th>\n",
       "      <th>Review</th>\n",
       "      <th>DateSubmitted</th>\n",
       "      <th>DateModified</th>\n",
       "    </tr>\n",
       "  </thead>\n",
       "  <tbody>\n",
       "  </tbody>\n",
       "</table>\n",
       "</div>"
      ],
      "text/plain": [
       "Empty DataFrame\n",
       "Columns: [ReviewId, RecipeId, AuthorId, AuthorName, Rating, Review, DateSubmitted, DateModified]\n",
       "Index: []"
      ]
     },
     "execution_count": 7,
     "metadata": {},
     "output_type": "execute_result"
    }
   ],
   "source": [
    "#any row exist that DateModified and DateSubmitted are not the same\n",
    "df[df['DateModified'] != df['DateSubmitted']]"
   ]
  },
  {
   "cell_type": "markdown",
   "id": "e786909f",
   "metadata": {},
   "source": [
    "DateModified and DateSubmitted are exactly having the same information. so we can drop one of them."
   ]
  },
  {
   "cell_type": "code",
   "execution_count": 8,
   "id": "71b525e3",
   "metadata": {},
   "outputs": [
    {
     "data": {
      "text/html": [
       "<div>\n",
       "<style scoped>\n",
       "    .dataframe tbody tr th:only-of-type {\n",
       "        vertical-align: middle;\n",
       "    }\n",
       "\n",
       "    .dataframe tbody tr th {\n",
       "        vertical-align: top;\n",
       "    }\n",
       "\n",
       "    .dataframe thead th {\n",
       "        text-align: right;\n",
       "    }\n",
       "</style>\n",
       "<table border=\"1\" class=\"dataframe\">\n",
       "  <thead>\n",
       "    <tr style=\"text-align: right;\">\n",
       "      <th></th>\n",
       "      <th>ReviewId</th>\n",
       "      <th>RecipeId</th>\n",
       "      <th>AuthorId</th>\n",
       "      <th>AuthorName</th>\n",
       "      <th>Rating</th>\n",
       "      <th>Review</th>\n",
       "      <th>DateSubmitted</th>\n",
       "    </tr>\n",
       "  </thead>\n",
       "  <tbody>\n",
       "    <tr>\n",
       "      <th>0</th>\n",
       "      <td>2</td>\n",
       "      <td>992</td>\n",
       "      <td>2008</td>\n",
       "      <td>gayg msft</td>\n",
       "      <td>5</td>\n",
       "      <td>better than any you can get at a restaurant!</td>\n",
       "      <td>2000-01-25 21:44:00+00:00</td>\n",
       "    </tr>\n",
       "    <tr>\n",
       "      <th>1</th>\n",
       "      <td>7</td>\n",
       "      <td>4384</td>\n",
       "      <td>1634</td>\n",
       "      <td>Bill Hilbrich</td>\n",
       "      <td>4</td>\n",
       "      <td>I cut back on the mayo, and made up the differ...</td>\n",
       "      <td>2001-10-17 16:49:59+00:00</td>\n",
       "    </tr>\n",
       "    <tr>\n",
       "      <th>2</th>\n",
       "      <td>9</td>\n",
       "      <td>4523</td>\n",
       "      <td>2046</td>\n",
       "      <td>Gay Gilmore ckpt</td>\n",
       "      <td>2</td>\n",
       "      <td>i think i did something wrong because i could ...</td>\n",
       "      <td>2000-02-25 09:00:00+00:00</td>\n",
       "    </tr>\n",
       "    <tr>\n",
       "      <th>3</th>\n",
       "      <td>13</td>\n",
       "      <td>7435</td>\n",
       "      <td>1773</td>\n",
       "      <td>Malarkey Test</td>\n",
       "      <td>5</td>\n",
       "      <td>easily the best i have ever had.  juicy flavor...</td>\n",
       "      <td>2000-03-13 21:15:00+00:00</td>\n",
       "    </tr>\n",
       "    <tr>\n",
       "      <th>4</th>\n",
       "      <td>14</td>\n",
       "      <td>44</td>\n",
       "      <td>2085</td>\n",
       "      <td>Tony Small</td>\n",
       "      <td>5</td>\n",
       "      <td>An excellent dish.</td>\n",
       "      <td>2000-03-28 12:51:00+00:00</td>\n",
       "    </tr>\n",
       "  </tbody>\n",
       "</table>\n",
       "</div>"
      ],
      "text/plain": [
       "   ReviewId  RecipeId  AuthorId        AuthorName  Rating  \\\n",
       "0         2       992      2008         gayg msft       5   \n",
       "1         7      4384      1634     Bill Hilbrich       4   \n",
       "2         9      4523      2046  Gay Gilmore ckpt       2   \n",
       "3        13      7435      1773     Malarkey Test       5   \n",
       "4        14        44      2085        Tony Small       5   \n",
       "\n",
       "                                              Review             DateSubmitted  \n",
       "0       better than any you can get at a restaurant! 2000-01-25 21:44:00+00:00  \n",
       "1  I cut back on the mayo, and made up the differ... 2001-10-17 16:49:59+00:00  \n",
       "2  i think i did something wrong because i could ... 2000-02-25 09:00:00+00:00  \n",
       "3  easily the best i have ever had.  juicy flavor... 2000-03-13 21:15:00+00:00  \n",
       "4                                 An excellent dish. 2000-03-28 12:51:00+00:00  "
      ]
     },
     "execution_count": 8,
     "metadata": {},
     "output_type": "execute_result"
    }
   ],
   "source": [
    "#drop DateModified\n",
    "df = df.drop(columns = 'DateModified')\n",
    "\n",
    "#sanity check\n",
    "df.head()"
   ]
  },
  {
   "cell_type": "markdown",
   "id": "09c0a6a7",
   "metadata": {},
   "source": [
    "---\n",
    "# Missing Values\n",
    "Lets see if there is any missing value in our dataset."
   ]
  },
  {
   "cell_type": "code",
   "execution_count": 9,
   "id": "b0b5584d",
   "metadata": {},
   "outputs": [
    {
     "data": {
      "text/plain": [
       "ReviewId         0\n",
       "RecipeId         0\n",
       "AuthorId         0\n",
       "AuthorName       0\n",
       "Rating           0\n",
       "Review           0\n",
       "DateSubmitted    0\n",
       "dtype: int64"
      ]
     },
     "execution_count": 9,
     "metadata": {},
     "output_type": "execute_result"
    }
   ],
   "source": [
    "df.isna().sum()"
   ]
  },
  {
   "cell_type": "markdown",
   "id": "577b27aa",
   "metadata": {},
   "source": [
    "Fortunately, there is no missing value.:)"
   ]
  },
  {
   "cell_type": "markdown",
   "id": "da430c12",
   "metadata": {},
   "source": [
    "---\n",
    "# Data Types\n",
    "Next step would be chicking for data types to make sure everything is in the right format."
   ]
  },
  {
   "cell_type": "code",
   "execution_count": 10,
   "id": "51603c5c",
   "metadata": {},
   "outputs": [
    {
     "name": "stdout",
     "output_type": "stream",
     "text": [
      "<class 'pandas.core.frame.DataFrame'>\n",
      "RangeIndex: 1401982 entries, 0 to 1401981\n",
      "Data columns (total 7 columns):\n",
      " #   Column         Non-Null Count    Dtype              \n",
      "---  ------         --------------    -----              \n",
      " 0   ReviewId       1401982 non-null  int32              \n",
      " 1   RecipeId       1401982 non-null  int32              \n",
      " 2   AuthorId       1401982 non-null  int32              \n",
      " 3   AuthorName     1401982 non-null  object             \n",
      " 4   Rating         1401982 non-null  int32              \n",
      " 5   Review         1401982 non-null  object             \n",
      " 6   DateSubmitted  1401982 non-null  datetime64[ns, UTC]\n",
      "dtypes: datetime64[ns, UTC](1), int32(4), object(2)\n",
      "memory usage: 53.5+ MB\n"
     ]
    }
   ],
   "source": [
    "#each column datatype\n",
    "df.info()"
   ]
  },
  {
   "cell_type": "code",
   "execution_count": 11,
   "id": "14fb791b",
   "metadata": {},
   "outputs": [
    {
     "data": {
      "text/plain": [
       "array([5, 4, 2, 0, 1, 3], dtype=int32)"
      ]
     },
     "execution_count": 11,
     "metadata": {},
     "output_type": "execute_result"
    }
   ],
   "source": [
    "# values of rating\n",
    "df[\"Rating\"].unique()"
   ]
  },
  {
   "cell_type": "markdown",
   "id": "72a22833",
   "metadata": {},
   "source": [
    "All the columns are in the right format."
   ]
  },
  {
   "cell_type": "markdown",
   "id": "f58aa8fb",
   "metadata": {},
   "source": [
    "---\n",
    "# EDA and Distributions\n",
    "In this step there are three main column that we want to investigate. First is submitted date, then check how data is distributed among different authors, and finally Rating distribution."
   ]
  },
  {
   "cell_type": "code",
   "execution_count": 12,
   "id": "c3530b27",
   "metadata": {},
   "outputs": [],
   "source": [
    "#plt.figure()\n",
    "#sns.pairplot(data=df, corner=True)\n",
    "#plt.yscale('log')\n",
    "#plt.show()\n",
    "\n",
    "# pair plot does not make much sense since we have only rating column as numeric column."
   ]
  },
  {
   "cell_type": "markdown",
   "id": "07aa1477",
   "metadata": {},
   "source": [
    "### Submitted Date"
   ]
  },
  {
   "cell_type": "code",
   "execution_count": 13,
   "id": "1f148eeb",
   "metadata": {},
   "outputs": [
    {
     "data": {
      "image/png": "[encoded data removed]",
      "text/plain": [
       "<Figure size 640x480 with 1 Axes>"
      ]
     },
     "metadata": {},
     "output_type": "display_data"
    }
   ],
   "source": [
    "plt.figure()\n",
    "\n",
    "sns.histplot(df['DateSubmitted'],bins=100, alpha=0.5)\n",
    "plt.title(\"DateSubmitted Distribution\")\n",
    "plt.ylabel(\"Frequency\")\n",
    "plt.xlabel(\"DateSubmitted\")\n",
    "plt.show()"
   ]
  },
  {
   "cell_type": "markdown",
   "id": "0a5c4adc",
   "metadata": {},
   "source": [
    "Most of the reviews has been writen between 2006 and 2010. It can be because that the food.com website was more popular at that time and its popularity decreased over time."
   ]
  },
  {
   "cell_type": "markdown",
   "id": "4e922378",
   "metadata": {},
   "source": [
    "### Authors"
   ]
  },
  {
   "cell_type": "code",
   "execution_count": 14,
   "id": "e59892d4",
   "metadata": {},
   "outputs": [
    {
     "data": {
      "text/plain": [
       "271907"
      ]
     },
     "execution_count": 14,
     "metadata": {},
     "output_type": "execute_result"
    }
   ],
   "source": [
    "#total number of authors\n",
    "len(df[\"AuthorId\"].unique())"
   ]
  },
  {
   "cell_type": "code",
   "execution_count": 15,
   "id": "961e4b6a",
   "metadata": {
    "scrolled": true
   },
   "outputs": [
    {
     "data": {
      "text/plain": [
       "424680        0.630679\n",
       "37449         0.471119\n",
       "383346        0.387879\n",
       "128473        0.334740\n",
       "169430        0.327108\n",
       "                ...   \n",
       "1701969       0.000071\n",
       "1585419       0.000071\n",
       "1704446       0.000071\n",
       "1417548       0.000071\n",
       "2002812127    0.000071\n",
       "Name: AuthorId, Length: 271907, dtype: float64"
      ]
     },
     "execution_count": 15,
     "metadata": {},
     "output_type": "execute_result"
    }
   ],
   "source": [
    "df[\"AuthorId\"].value_counts(normalize=True)*100"
   ]
  },
  {
   "cell_type": "markdown",
   "id": "040f2410",
   "metadata": {},
   "source": [
    "The top author in terms of reviews own about 0.6 percent the dataset."
   ]
  },
  {
   "cell_type": "code",
   "execution_count": 16,
   "id": "fea8c234",
   "metadata": {},
   "outputs": [
    {
     "data": {
      "text/plain": [
       "count    271907.000000\n",
       "mean          5.156109\n",
       "std          53.468238\n",
       "min           1.000000\n",
       "25%           1.000000\n",
       "50%           1.000000\n",
       "75%           2.000000\n",
       "max        8842.000000\n",
       "Name: AuthorId, dtype: float64"
      ]
     },
     "execution_count": 16,
     "metadata": {},
     "output_type": "execute_result"
    }
   ],
   "source": [
    "# distribution of reveiw per authors.\n",
    "df[\"AuthorId\"].value_counts().describe()"
   ]
  },
  {
   "cell_type": "markdown",
   "id": "6ee8bc2d",
   "metadata": {},
   "source": [
    "Most of the authers have 1 or two reviews, however there are some authors that have written many reviews. This is important to have in mind for our model, because the model prediction would lean to those people ideas. On the other hand, understanding the people's preferences from just one or two reviews is very hard.\n",
    "lets also see the distribution visualy."
   ]
  },
  {
   "cell_type": "code",
   "execution_count": 17,
   "id": "84656302",
   "metadata": {},
   "outputs": [
    {
     "data": {
      "image/png": "[encoded data removed]",
      "text/plain": [
       "<Figure size 640x480 with 1 Axes>"
      ]
     },
     "metadata": {},
     "output_type": "display_data"
    }
   ],
   "source": [
    "#each author owns how many percent of reviews.\n",
    "plt.figure()\n",
    "sns.histplot(df[\"AuthorId\"].value_counts().values, bins=20,alpha=0.5)\n",
    "plt.yscale('log')\n",
    "plt.xscale('log')\n",
    "plt.ylabel('Frequency of Authors')\n",
    "plt.xlabel('Number of Reviews per Author')\n",
    "#plt.title('Review Percentage per Author Distribution')\n",
    "plt.axvline(df[\"AuthorId\"].value_counts().values.mean(), c='r', linestyle='-.',label='Mean')\n",
    "plt.legend()\n",
    "plt.show()"
   ]
  },
  {
   "cell_type": "markdown",
   "id": "0d1aeefa",
   "metadata": {},
   "source": [
    "An assumption for the reason for the outlier in number of reviews is that maybe there is bot generating reviews. because it's impossible for a human to right 8000 reviews. however we are not sure and we keep using them. "
   ]
  },
  {
   "cell_type": "code",
   "execution_count": 18,
   "id": "04479ddf",
   "metadata": {},
   "outputs": [
    {
     "data": {
      "text/plain": [
       "count    1401982.0\n",
       "mean           1.0\n",
       "std            0.0\n",
       "min            1.0\n",
       "25%            1.0\n",
       "50%            1.0\n",
       "75%            1.0\n",
       "max            1.0\n",
       "Name: ReviewId, dtype: float64"
      ]
     },
     "execution_count": 18,
     "metadata": {},
     "output_type": "execute_result"
    }
   ],
   "source": [
    "# number of reviews for each pair of author and recipe\n",
    "df.groupby([\"AuthorId\",\"RecipeId\"])[\"ReviewId\"].count().describe()"
   ]
  },
  {
   "cell_type": "markdown",
   "id": "b014cc1b",
   "metadata": {},
   "source": [
    "we just have one and only one review for each recipe author pair. that means any author can just write a review for a recipe once."
   ]
  },
  {
   "cell_type": "markdown",
   "id": "06e52735",
   "metadata": {},
   "source": [
    "## Rating\n",
    "\n",
    "Lets check how our data distributed in different ratings."
   ]
  },
  {
   "cell_type": "code",
   "execution_count": 19,
   "id": "4ef5fe6e",
   "metadata": {},
   "outputs": [
    {
     "data": {
      "image/png": "[encoded data removed]",
      "text/plain": [
       "<Figure size 640x480 with 1 Axes>"
      ]
     },
     "metadata": {},
     "output_type": "display_data"
    }
   ],
   "source": [
    "plt.figure()\n",
    "plt.bar(df[\"Rating\"].value_counts().index, df[\"Rating\"].value_counts().values, alpha=0.5)\n",
    "plt.ylabel('Number of reviews')\n",
    "plt.xlabel('Rating')\n",
    "plt.title('Number of Review vs Rating ')\n",
    "plt.axhline(df[\"Rating\"].value_counts().values.mean(), c='r', linestyle='-.',label='Mean')\n",
    "plt.legend()\n",
    "plt.show()"
   ]
  },
  {
   "cell_type": "markdown",
   "id": "cfe5315b",
   "metadata": {},
   "source": [
    "Reviews is not normally distributed for different ratings. we have to keep that mind and deal with it before modeling because it may cause biases."
   ]
  },
  {
   "cell_type": "markdown",
   "id": "d4a6e0d8",
   "metadata": {},
   "source": [
    "---\n",
    "## Column names\n",
    "\n",
    "As we may want to merge this table to the recipe table, we want to change the column names to clarify them while we dont want to add a prefix to all of them."
   ]
  },
  {
   "cell_type": "code",
   "execution_count": 20,
   "id": "b5bbd511",
   "metadata": {},
   "outputs": [
    {
     "data": {
      "text/plain": [
       "Index(['ReviewId', 'RecipeId', 'AuthorId', 'AuthorName', 'Rating', 'Review',\n",
       "       'DateSubmitted'],\n",
       "      dtype='object')"
      ]
     },
     "execution_count": 20,
     "metadata": {},
     "output_type": "execute_result"
    }
   ],
   "source": [
    "df.columns"
   ]
  },
  {
   "cell_type": "code",
   "execution_count": 21,
   "id": "72af3ec3",
   "metadata": {},
   "outputs": [
    {
     "data": {
      "text/html": [
       "<div>\n",
       "<style scoped>\n",
       "    .dataframe tbody tr th:only-of-type {\n",
       "        vertical-align: middle;\n",
       "    }\n",
       "\n",
       "    .dataframe tbody tr th {\n",
       "        vertical-align: top;\n",
       "    }\n",
       "\n",
       "    .dataframe thead th {\n",
       "        text-align: right;\n",
       "    }\n",
       "</style>\n",
       "<table border=\"1\" class=\"dataframe\">\n",
       "  <thead>\n",
       "    <tr style=\"text-align: right;\">\n",
       "      <th></th>\n",
       "      <th>ReviewId</th>\n",
       "      <th>RecipeId</th>\n",
       "      <th>Review_AuthorId</th>\n",
       "      <th>Review_AuthorName</th>\n",
       "      <th>Review_Rating</th>\n",
       "      <th>Review</th>\n",
       "      <th>Review_DateSubmitted</th>\n",
       "    </tr>\n",
       "  </thead>\n",
       "  <tbody>\n",
       "    <tr>\n",
       "      <th>0</th>\n",
       "      <td>2</td>\n",
       "      <td>992</td>\n",
       "      <td>2008</td>\n",
       "      <td>gayg msft</td>\n",
       "      <td>5</td>\n",
       "      <td>better than any you can get at a restaurant!</td>\n",
       "      <td>2000-01-25 21:44:00+00:00</td>\n",
       "    </tr>\n",
       "    <tr>\n",
       "      <th>1</th>\n",
       "      <td>7</td>\n",
       "      <td>4384</td>\n",
       "      <td>1634</td>\n",
       "      <td>Bill Hilbrich</td>\n",
       "      <td>4</td>\n",
       "      <td>I cut back on the mayo, and made up the differ...</td>\n",
       "      <td>2001-10-17 16:49:59+00:00</td>\n",
       "    </tr>\n",
       "    <tr>\n",
       "      <th>2</th>\n",
       "      <td>9</td>\n",
       "      <td>4523</td>\n",
       "      <td>2046</td>\n",
       "      <td>Gay Gilmore ckpt</td>\n",
       "      <td>2</td>\n",
       "      <td>i think i did something wrong because i could ...</td>\n",
       "      <td>2000-02-25 09:00:00+00:00</td>\n",
       "    </tr>\n",
       "    <tr>\n",
       "      <th>3</th>\n",
       "      <td>13</td>\n",
       "      <td>7435</td>\n",
       "      <td>1773</td>\n",
       "      <td>Malarkey Test</td>\n",
       "      <td>5</td>\n",
       "      <td>easily the best i have ever had.  juicy flavor...</td>\n",
       "      <td>2000-03-13 21:15:00+00:00</td>\n",
       "    </tr>\n",
       "    <tr>\n",
       "      <th>4</th>\n",
       "      <td>14</td>\n",
       "      <td>44</td>\n",
       "      <td>2085</td>\n",
       "      <td>Tony Small</td>\n",
       "      <td>5</td>\n",
       "      <td>An excellent dish.</td>\n",
       "      <td>2000-03-28 12:51:00+00:00</td>\n",
       "    </tr>\n",
       "  </tbody>\n",
       "</table>\n",
       "</div>"
      ],
      "text/plain": [
       "   ReviewId  RecipeId  Review_AuthorId Review_AuthorName  Review_Rating  \\\n",
       "0         2       992             2008         gayg msft              5   \n",
       "1         7      4384             1634     Bill Hilbrich              4   \n",
       "2         9      4523             2046  Gay Gilmore ckpt              2   \n",
       "3        13      7435             1773     Malarkey Test              5   \n",
       "4        14        44             2085        Tony Small              5   \n",
       "\n",
       "                                              Review      Review_DateSubmitted  \n",
       "0       better than any you can get at a restaurant! 2000-01-25 21:44:00+00:00  \n",
       "1  I cut back on the mayo, and made up the differ... 2001-10-17 16:49:59+00:00  \n",
       "2  i think i did something wrong because i could ... 2000-02-25 09:00:00+00:00  \n",
       "3  easily the best i have ever had.  juicy flavor... 2000-03-13 21:15:00+00:00  \n",
       "4                                 An excellent dish. 2000-03-28 12:51:00+00:00  "
      ]
     },
     "execution_count": 21,
     "metadata": {},
     "output_type": "execute_result"
    }
   ],
   "source": [
    "#change some of column names\n",
    "df.rename(columns={'AuthorId': 'Review_AuthorId', 'AuthorName': 'Review_AuthorName','DateSubmitted':'Review_DateSubmitted','Rating':'Review_Rating'}, inplace=True)\n",
    "\n",
    "#sanity check\n",
    "df.head()"
   ]
  },
  {
   "cell_type": "markdown",
   "id": "72ed7501",
   "metadata": {},
   "source": [
    "### Save\n",
    "Finaly lets save our cleaned data"
   ]
  },
  {
   "cell_type": "code",
   "execution_count": 22,
   "id": "a34d29be",
   "metadata": {},
   "outputs": [],
   "source": [
    "df.to_parquet('Transformed Data/ cleanedReviewdf.parquet', index=False)"
   ]
  },
  {
   "cell_type": "markdown",
   "id": "47a51555",
   "metadata": {},
   "source": [
    "### Slice\n",
    "Lets slice our data to have more managable amount of data.\n",
    "\n",
    "First we filter the reviews which are about the recipes that we have filtered. And then we filter for the authors that at least have 20 reviews. The reason for second action is that in user item filtering recommendation system, we should have enough information of our user to be able to compare with other users and predict."
   ]
  },
  {
   "cell_type": "code",
   "execution_count": 23,
   "id": "f52b613e",
   "metadata": {},
   "outputs": [],
   "source": [
    "#importing final recipe dataset\n",
    "df_HighReviwedRecipes = pd.read_parquet(\"Transformed Data/ Cleaned-Sampled-Recipes.parquet\")"
   ]
  },
  {
   "cell_type": "code",
   "execution_count": 24,
   "id": "fc75e7df",
   "metadata": {},
   "outputs": [
    {
     "data": {
      "text/plain": [
       "(553665, 7)"
      ]
     },
     "execution_count": 24,
     "metadata": {},
     "output_type": "execute_result"
    }
   ],
   "source": [
    "# reviews for the choosen recipes\n",
    "df_rev_small = df[df['RecipeId'].isin(df_HighReviwedRecipes['RecipeId'].values)]\n",
    "\n",
    "#sanity check\n",
    "df_rev_small.shape"
   ]
  },
  {
   "cell_type": "markdown",
   "id": "4fd394dc",
   "metadata": {},
   "source": [
    "The dataset has reduced to 553665 rows. lets filter users."
   ]
  },
  {
   "cell_type": "code",
   "execution_count": 25,
   "id": "693ae483",
   "metadata": {},
   "outputs": [
    {
     "data": {
      "text/html": [
       "<div>\n",
       "<style scoped>\n",
       "    .dataframe tbody tr th:only-of-type {\n",
       "        vertical-align: middle;\n",
       "    }\n",
       "\n",
       "    .dataframe tbody tr th {\n",
       "        vertical-align: top;\n",
       "    }\n",
       "\n",
       "    .dataframe thead th {\n",
       "        text-align: right;\n",
       "    }\n",
       "</style>\n",
       "<table border=\"1\" class=\"dataframe\">\n",
       "  <thead>\n",
       "    <tr style=\"text-align: right;\">\n",
       "      <th></th>\n",
       "      <th>ReviewId</th>\n",
       "      <th>RecipeId</th>\n",
       "      <th>Review_AuthorId</th>\n",
       "      <th>Review_AuthorName</th>\n",
       "      <th>Review_Rating</th>\n",
       "      <th>Review</th>\n",
       "      <th>Review_DateSubmitted</th>\n",
       "    </tr>\n",
       "  </thead>\n",
       "  <tbody>\n",
       "    <tr>\n",
       "      <th>3</th>\n",
       "      <td>13</td>\n",
       "      <td>7435</td>\n",
       "      <td>1773</td>\n",
       "      <td>Malarkey Test</td>\n",
       "      <td>5</td>\n",
       "      <td>easily the best i have ever had.  juicy flavor...</td>\n",
       "      <td>2000-03-13 21:15:00+00:00</td>\n",
       "    </tr>\n",
       "    <tr>\n",
       "      <th>4</th>\n",
       "      <td>14</td>\n",
       "      <td>44</td>\n",
       "      <td>2085</td>\n",
       "      <td>Tony Small</td>\n",
       "      <td>5</td>\n",
       "      <td>An excellent dish.</td>\n",
       "      <td>2000-03-28 12:51:00+00:00</td>\n",
       "    </tr>\n",
       "    <tr>\n",
       "      <th>6</th>\n",
       "      <td>19</td>\n",
       "      <td>13307</td>\n",
       "      <td>2046</td>\n",
       "      <td>Gay Gilmore ckpt</td>\n",
       "      <td>5</td>\n",
       "      <td>chewy goodness, not crispy at all. i even thre...</td>\n",
       "      <td>2000-05-21 16:59:00+00:00</td>\n",
       "    </tr>\n",
       "    <tr>\n",
       "      <th>9</th>\n",
       "      <td>23</td>\n",
       "      <td>4684</td>\n",
       "      <td>2046</td>\n",
       "      <td>Gay Gilmore ckpt</td>\n",
       "      <td>5</td>\n",
       "      <td>this is absolutely delicious.  i even served i...</td>\n",
       "      <td>2000-02-25 09:06:00+00:00</td>\n",
       "    </tr>\n",
       "    <tr>\n",
       "      <th>15</th>\n",
       "      <td>36</td>\n",
       "      <td>7478</td>\n",
       "      <td>2585</td>\n",
       "      <td>Jennifer Kurzdorfer</td>\n",
       "      <td>4</td>\n",
       "      <td>Very simple recipe to make! This is a refreshi...</td>\n",
       "      <td>2000-09-05 13:27:34+00:00</td>\n",
       "    </tr>\n",
       "  </tbody>\n",
       "</table>\n",
       "</div>"
      ],
      "text/plain": [
       "    ReviewId  RecipeId  Review_AuthorId    Review_AuthorName  Review_Rating  \\\n",
       "3         13      7435             1773        Malarkey Test              5   \n",
       "4         14        44             2085           Tony Small              5   \n",
       "6         19     13307             2046     Gay Gilmore ckpt              5   \n",
       "9         23      4684             2046     Gay Gilmore ckpt              5   \n",
       "15        36      7478             2585  Jennifer Kurzdorfer              4   \n",
       "\n",
       "                                               Review  \\\n",
       "3   easily the best i have ever had.  juicy flavor...   \n",
       "4                                  An excellent dish.   \n",
       "6   chewy goodness, not crispy at all. i even thre...   \n",
       "9   this is absolutely delicious.  i even served i...   \n",
       "15  Very simple recipe to make! This is a refreshi...   \n",
       "\n",
       "        Review_DateSubmitted  \n",
       "3  2000-03-13 21:15:00+00:00  \n",
       "4  2000-03-28 12:51:00+00:00  \n",
       "6  2000-05-21 16:59:00+00:00  \n",
       "9  2000-02-25 09:06:00+00:00  \n",
       "15 2000-09-05 13:27:34+00:00  "
      ]
     },
     "execution_count": 25,
     "metadata": {},
     "output_type": "execute_result"
    }
   ],
   "source": [
    "df_rev_small.head()"
   ]
  },
  {
   "cell_type": "code",
   "execution_count": 26,
   "id": "21143d4d",
   "metadata": {},
   "outputs": [],
   "source": [
    "# finding number o recipes per author\n",
    "ddf = pd.DataFrame(df_rev_small[\"Review_AuthorId\"].value_counts())\n",
    "ddf.reset_index(inplace=True)\n",
    "ddf.rename(columns={'index':'id','Review_AuthorId':'No_rev'}, inplace=True)\n",
    "\n",
    "#filter for the ones with more than 20 reviews\n",
    "ddf=ddf[ddf['No_rev']>20]"
   ]
  },
  {
   "cell_type": "code",
   "execution_count": 27,
   "id": "333a4380",
   "metadata": {},
   "outputs": [],
   "source": [
    "#filtering reviews based on their authors\n",
    "Cleaned_sample_review = df_rev_small[df_rev_small['Review_AuthorId'].isin(ddf['id'])]"
   ]
  },
  {
   "cell_type": "code",
   "execution_count": 28,
   "id": "db4c59ec",
   "metadata": {},
   "outputs": [
    {
     "data": {
      "text/plain": [
       "(263367, 7)"
      ]
     },
     "execution_count": 28,
     "metadata": {},
     "output_type": "execute_result"
    }
   ],
   "source": [
    "Cleaned_sample_review.shape"
   ]
  },
  {
   "cell_type": "code",
   "execution_count": 29,
   "id": "53a320fb",
   "metadata": {},
   "outputs": [
    {
     "data": {
      "text/plain": [
       "4110"
      ]
     },
     "execution_count": 29,
     "metadata": {},
     "output_type": "execute_result"
    }
   ],
   "source": [
    "#number of \n",
    "Cleaned_sample_review['Review_AuthorId'].nunique()"
   ]
  },
  {
   "cell_type": "markdown",
   "id": "643be59d",
   "metadata": {},
   "source": [
    "Now we have reached 260K reveiws from 4110 author."
   ]
  },
  {
   "cell_type": "code",
   "execution_count": 30,
   "id": "a1b6f850",
   "metadata": {},
   "outputs": [],
   "source": [
    "Cleaned_sample_review.to_parquet('Transformed Data/ Cleaned-Sampled-Review.parquet', index=False)"
   ]
  }
 ],
 "metadata": {
  "kernelspec": {
   "display_name": "Python 3 (ipykernel)",
   "language": "python",
   "name": "python3"
  },
  "language_info": {
   "codemirror_mode": {
    "name": "ipython",
    "version": 3
   },
   "file_extension": ".py",
   "mimetype": "text/x-python",
   "name": "python",
   "nbconvert_exporter": "python",
   "pygments_lexer": "ipython3",
   "version": "3.9.12"
  }
 },
 "nbformat": 4,
 "nbformat_minor": 5
}
