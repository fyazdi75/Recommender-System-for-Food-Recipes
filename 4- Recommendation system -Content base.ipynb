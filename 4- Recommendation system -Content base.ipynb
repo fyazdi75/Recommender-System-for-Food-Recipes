{
 "cells": [
  {
   "cell_type": "markdown",
   "id": "b3e19536",
   "metadata": {},
   "source": [
    "## Faezeh Yazdi Capstone Project - Food Recomendation System\n",
    "\n",
    "## Notebook : Content base recommendation system\n",
    "This notebook aims to build a recommendation system by finding similar recipes to each other, based on different features."
   ]
  },
  {
   "cell_type": "code",
   "execution_count": 2,
   "id": "a29a0d4b",
   "metadata": {},
   "outputs": [],
   "source": [
    "#import packages\n",
    "import pandas as pd\n",
    "import numpy as np \n",
    "import matplotlib.pyplot as plt\n",
    "from sklearn.model_selection import train_test_split\n",
    "from sklearn.feature_extraction.text import TfidfVectorizer\n",
    "from sklearn.feature_extraction import text\n",
    "from sklearn.preprocessing import OneHotEncoder\n",
    "from sklearn.compose import ColumnTransformer\n",
    "from sklearn.preprocessing import StandardScaler\n",
    "from sklearn.metrics.pairwise import cosine_similarity \n"
   ]
  },
  {
   "cell_type": "code",
   "execution_count": 3,
   "id": "73465edd",
   "metadata": {},
   "outputs": [],
   "source": [
    "#pd.set_option('display.max_colwidth', None)\n",
    "# Set the maximum number of columns to display to None\n",
    "#pd.set_option('display.max_columns', None)"
   ]
  },
  {
   "cell_type": "code",
   "execution_count": 4,
   "id": "f3714ff9",
   "metadata": {},
   "outputs": [],
   "source": [
    "np.random.seed(0)"
   ]
  },
  {
   "cell_type": "markdown",
   "id": "0b9fb8fd",
   "metadata": {},
   "source": [
    "As dataset is very large, and our computational power is low, we will build our models on a sample of our dataset. this smaller dataset can be selected random, or it can be the one we have filtered for recipes with more than "
   ]
  },
  {
   "cell_type": "code",
   "execution_count": 5,
   "id": "099a0c68",
   "metadata": {},
   "outputs": [],
   "source": [
    "#use a small sample to speed up the computation\n",
    "\n",
    "#df = pd.read_parquet(\"cleanedRecipedf.parquet\")\n",
    "#big_df, small_df = train_test_split(df, test_size=0.05, random_state=25, stratify=df[\"AggregatedRating\"])\n",
    "#small_df.reset_index(inplace=True)\n",
    "#df=small_df"
   ]
  },
  {
   "cell_type": "code",
   "execution_count": 6,
   "id": "e85cc14c",
   "metadata": {},
   "outputs": [],
   "source": [
    "df = pd.read_parquet('Transformed Data/ Cleaned-Sampled-Recipes.parquet')"
   ]
  },
  {
   "cell_type": "code",
   "execution_count": 7,
   "id": "988c5c1a",
   "metadata": {},
   "outputs": [
    {
     "data": {
      "text/html": [
       "<div>\n",
       "<style scoped>\n",
       "    .dataframe tbody tr th:only-of-type {\n",
       "        vertical-align: middle;\n",
       "    }\n",
       "\n",
       "    .dataframe tbody tr th {\n",
       "        vertical-align: top;\n",
       "    }\n",
       "\n",
       "    .dataframe thead th {\n",
       "        text-align: right;\n",
       "    }\n",
       "</style>\n",
       "<table border=\"1\" class=\"dataframe\">\n",
       "  <thead>\n",
       "    <tr style=\"text-align: right;\">\n",
       "      <th></th>\n",
       "      <th>RecipeId</th>\n",
       "      <th>Name</th>\n",
       "      <th>AuthorId</th>\n",
       "      <th>AuthorName</th>\n",
       "      <th>DatePublished</th>\n",
       "      <th>Description</th>\n",
       "      <th>Images</th>\n",
       "      <th>RecipeCategory</th>\n",
       "      <th>Keywords</th>\n",
       "      <th>RecipeIngredientQuantities</th>\n",
       "      <th>...</th>\n",
       "      <th>CarbohydrateContent</th>\n",
       "      <th>FiberContent</th>\n",
       "      <th>SugarContent</th>\n",
       "      <th>ProteinContent</th>\n",
       "      <th>RecipeInstructions</th>\n",
       "      <th>PrepTimeHours</th>\n",
       "      <th>CookingTimeHours</th>\n",
       "      <th>TotalTimeHours</th>\n",
       "      <th>CaloriesCategory</th>\n",
       "      <th>rateTwoScale</th>\n",
       "    </tr>\n",
       "  </thead>\n",
       "  <tbody>\n",
       "    <tr>\n",
       "      <th>0</th>\n",
       "      <td>45809</td>\n",
       "      <td>Bourbon Chicken</td>\n",
       "      <td>58278</td>\n",
       "      <td>LinMarie</td>\n",
       "      <td>2002-11-12 20:13:00+00:00</td>\n",
       "      <td>I searched and finally found this recipe on th...</td>\n",
       "      <td>[https://img.sndimg.com/food/image/upload/w_55...</td>\n",
       "      <td>Chicken Breast</td>\n",
       "      <td>[Chicken, Poultry, Meat, Chinese, Asian, High ...</td>\n",
       "      <td>[2, 1 -2, 1, 1⁄4, 3⁄4, 1⁄4, 1⁄3, 2, 1, 1⁄2, 1⁄3]</td>\n",
       "      <td>...</td>\n",
       "      <td>23.4</td>\n",
       "      <td>0.3</td>\n",
       "      <td>21.5</td>\n",
       "      <td>50.1</td>\n",
       "      <td>[Editor's Note:  Named Bourbon Chicken because...</td>\n",
       "      <td>0.250000</td>\n",
       "      <td>0.333333</td>\n",
       "      <td>0.583333</td>\n",
       "      <td>lessthan550</td>\n",
       "      <td>1</td>\n",
       "    </tr>\n",
       "    <tr>\n",
       "      <th>1</th>\n",
       "      <td>2886</td>\n",
       "      <td>Best Banana Bread</td>\n",
       "      <td>1762</td>\n",
       "      <td>lkadlec</td>\n",
       "      <td>1999-09-26 20:49:00+00:00</td>\n",
       "      <td>Make and share this Best Banana Bread recipe f...</td>\n",
       "      <td>[https://img.sndimg.com/food/image/upload/w_55...</td>\n",
       "      <td>Quick Breads</td>\n",
       "      <td>[Breads, Fruit, Oven, &lt; 4 Hours]</td>\n",
       "      <td>[1⁄2, 1, 2, 3, 1 1⁄2, 1, 1⁄2, 1⁄2]</td>\n",
       "      <td>...</td>\n",
       "      <td>42.5</td>\n",
       "      <td>1.4</td>\n",
       "      <td>24.4</td>\n",
       "      <td>3.7</td>\n",
       "      <td>[Remove odd pots and pans from oven., Preheat ...</td>\n",
       "      <td>0.166667</td>\n",
       "      <td>1.000000</td>\n",
       "      <td>1.166667</td>\n",
       "      <td>lessthan550</td>\n",
       "      <td>1</td>\n",
       "    </tr>\n",
       "  </tbody>\n",
       "</table>\n",
       "<p>2 rows × 28 columns</p>\n",
       "</div>"
      ],
      "text/plain": [
       "   RecipeId               Name  AuthorId AuthorName             DatePublished  \\\n",
       "0     45809    Bourbon Chicken     58278   LinMarie 2002-11-12 20:13:00+00:00   \n",
       "1      2886  Best Banana Bread      1762    lkadlec 1999-09-26 20:49:00+00:00   \n",
       "\n",
       "                                         Description  \\\n",
       "0  I searched and finally found this recipe on th...   \n",
       "1  Make and share this Best Banana Bread recipe f...   \n",
       "\n",
       "                                              Images  RecipeCategory  \\\n",
       "0  [https://img.sndimg.com/food/image/upload/w_55...  Chicken Breast   \n",
       "1  [https://img.sndimg.com/food/image/upload/w_55...    Quick Breads   \n",
       "\n",
       "                                            Keywords  \\\n",
       "0  [Chicken, Poultry, Meat, Chinese, Asian, High ...   \n",
       "1                   [Breads, Fruit, Oven, < 4 Hours]   \n",
       "\n",
       "                         RecipeIngredientQuantities  ... CarbohydrateContent  \\\n",
       "0  [2, 1 -2, 1, 1⁄4, 3⁄4, 1⁄4, 1⁄3, 2, 1, 1⁄2, 1⁄3]  ...                23.4   \n",
       "1                [1⁄2, 1, 2, 3, 1 1⁄2, 1, 1⁄2, 1⁄2]  ...                42.5   \n",
       "\n",
       "   FiberContent  SugarContent  ProteinContent  \\\n",
       "0           0.3          21.5            50.1   \n",
       "1           1.4          24.4             3.7   \n",
       "\n",
       "                                  RecipeInstructions  PrepTimeHours  \\\n",
       "0  [Editor's Note:  Named Bourbon Chicken because...       0.250000   \n",
       "1  [Remove odd pots and pans from oven., Preheat ...       0.166667   \n",
       "\n",
       "   CookingTimeHours  TotalTimeHours  CaloriesCategory  rateTwoScale  \n",
       "0          0.333333        0.583333       lessthan550             1  \n",
       "1          1.000000        1.166667       lessthan550             1  \n",
       "\n",
       "[2 rows x 28 columns]"
      ]
     },
     "execution_count": 7,
     "metadata": {},
     "output_type": "execute_result"
    }
   ],
   "source": [
    "df.head(2)"
   ]
  },
  {
   "cell_type": "markdown",
   "id": "8e9a609b",
   "metadata": {},
   "source": [
    "### Preprocessing Data types\n",
    "Before using our columns some of the types should change like Keywords and RecipeIngredientParts. These two columns are a list of strings and we want them to be pure string to be able to work with them more easily."
   ]
  },
  {
   "cell_type": "code",
   "execution_count": 8,
   "id": "824f8dca",
   "metadata": {
    "scrolled": true
   },
   "outputs": [
    {
     "data": {
      "text/plain": [
       "numpy.ndarray"
      ]
     },
     "execution_count": 8,
     "metadata": {},
     "output_type": "execute_result"
    }
   ],
   "source": [
    "#data type before change\n",
    "type(df['Keywords'][0])"
   ]
  },
  {
   "cell_type": "code",
   "execution_count": 9,
   "id": "71e00b99",
   "metadata": {},
   "outputs": [],
   "source": [
    "#change column type Keywords, RecipeIngredientParts\n",
    "\n",
    "def set_to_string (s):\n",
    "    try:\n",
    "        rec = ''\n",
    "        for i in range(len(s)):\n",
    "            rec = rec + s[i] + ', '\n",
    "        return rec\n",
    "    except:\n",
    "        return 'Nan'\n",
    "    \n",
    "df[\"Keywords\"] = df[\"Keywords\"].apply(lambda x: set_to_string(x))\n",
    "df[\"RecipeIngredientParts\"] = df[\"RecipeIngredientParts\"].apply(lambda x: set_to_string(x))"
   ]
  },
  {
   "cell_type": "code",
   "execution_count": 10,
   "id": "a3beebaa",
   "metadata": {},
   "outputs": [
    {
     "data": {
      "text/plain": [
       "str"
      ]
     },
     "execution_count": 10,
     "metadata": {},
     "output_type": "execute_result"
    }
   ],
   "source": [
    "#sanity check\n",
    "#data type before change\n",
    "type(df['Keywords'][0])"
   ]
  },
  {
   "cell_type": "markdown",
   "id": "102c2654",
   "metadata": {},
   "source": [
    "### Choosing Models Feature\n",
    "\n",
    "We are not using `rating` and `reviews` as similarity indicators, as well as author and name."
   ]
  },
  {
   "cell_type": "code",
   "execution_count": 11,
   "id": "d222f05a",
   "metadata": {},
   "outputs": [],
   "source": [
    "X = df[['Description','RecipeCategory', 'Keywords','RecipeIngredientParts',\n",
    "        'Calories', 'FatContent', 'SaturatedFatContent', \n",
    "        'CholesterolContent',\n",
    "       'SodiumContent', 'CarbohydrateContent', 'FiberContent', 'SugarContent',\n",
    "       'ProteinContent', 'PrepTimeHours',\n",
    "       'CookingTimeHours', 'TotalTimeHours']]\n",
    "\n",
    "#seperating text and numeric columns\n",
    "X_non_numeric = ['Description','RecipeCategory', 'Keywords','RecipeIngredientParts']\n",
    "X_numeric = ['Calories', 'FatContent', 'SaturatedFatContent', \n",
    "        'CholesterolContent',\n",
    "       'SodiumContent', 'CarbohydrateContent', 'FiberContent', 'SugarContent',\n",
    "       'ProteinContent', 'PrepTimeHours',\n",
    "       'CookingTimeHours', 'TotalTimeHours']"
   ]
  },
  {
   "cell_type": "markdown",
   "id": "fecdbea0",
   "metadata": {},
   "source": [
    "### Customize text transformer "
   ]
  },
  {
   "cell_type": "markdown",
   "id": "00992128",
   "metadata": {},
   "source": [
    "Based on the analysis on `description` column in the previous notebook, the following customized text vectorizer has been designed."
   ]
  },
  {
   "cell_type": "code",
   "execution_count": 12,
   "id": "d09b885b",
   "metadata": {},
   "outputs": [
    {
     "name": "stderr",
     "output_type": "stream",
     "text": [
      "[nltk_data] Downloading package stopwords to\n",
      "[nltk_data]     /Users/Arianayazdi/nltk_data...\n",
      "[nltk_data]   Package stopwords is already up-to-date!\n"
     ]
    }
   ],
   "source": [
    "# `description` column tokenizer\n",
    "\n",
    "\n",
    "#import:\n",
    "#stemmer\n",
    "import nltk\n",
    "stemmer = nltk.stem.PorterStemmer()\n",
    "# import stopwords\n",
    "nltk.download('stopwords')\n",
    "from nltk.corpus import stopwords \n",
    "# import punctuation list\n",
    "import string\n",
    "\n",
    "#remove digit\n",
    "def removedigits(s):\n",
    "    result = ''.join([i for i in s if not i.isdigit()])\n",
    "    return result\n",
    "\n",
    "def removebadcharacters(s):\n",
    "    s = s.replace('\\r','')\n",
    "    s = s.replace('\\n','')\n",
    "    s = s.replace('\\nPs','')\n",
    "    s = s.replace('\\ni','')\n",
    "    s = s.replace('\\nthi','')\n",
    "    return s\n",
    "    \n",
    "\n",
    "#add some stopwords\n",
    "ENGLISH_STOP_WORDS = stopwords.words('english')\n",
    "\n",
    "# define custome tokenizer\n",
    "def my_tokenizer(sentence):\n",
    "    \n",
    "    #remove numbers\n",
    "    sentence = removedigits(sentence)\n",
    "    sentence = removebadcharacters(sentence)\n",
    "    \n",
    "    # remove punctuation and set to lower case\n",
    "    for punctuation_mark in string.punctuation:\n",
    "        sentence = sentence.replace(punctuation_mark,'').lower()\n",
    "\n",
    "    # split sentence into words\n",
    "    listofwords = sentence.split(' ')\n",
    "    listofstemmed_words = []\n",
    "    \n",
    "    # remove stopwords and any tokens that are just empty strings\n",
    "    for word in listofwords:\n",
    "        if (not word in ENGLISH_STOP_WORDS) and (word!=''):\n",
    "            # Stem words\n",
    "            stemmed_word = stemmer.stem(word)\n",
    "            listofstemmed_words.append(stemmed_word)\n",
    "\n",
    "    return listofstemmed_words"
   ]
  },
  {
   "cell_type": "markdown",
   "id": "79928eab",
   "metadata": {},
   "source": [
    "Then we will transform description column using TFIDF, as it is more suitable for this situation than bag of words. Beacuase the TFIDF focus on more specific and unique words of each description, we will be able to find similarities better."
   ]
  },
  {
   "cell_type": "code",
   "execution_count": 13,
   "id": "35aa650f",
   "metadata": {},
   "outputs": [],
   "source": [
    "#description column transformer\n",
    "My_normal_TFIDF_vectorizer = TfidfVectorizer(tokenizer = my_tokenizer, min_df = 10, max_df = 0.9)\n",
    "\n",
    "#keywords and ingredients\n",
    "My_phrase_vectorizer = TfidfVectorizer(tokenizer=lambda x: x.split(','),min_df=10)"
   ]
  },
  {
   "cell_type": "markdown",
   "id": "4d0c0110",
   "metadata": {},
   "source": [
    "### Columns transformer\n",
    "Transform text to numeric and scale numeric columns to have a complete numeric table of all features. For `descriptin` column we are using the tocenizer we defined with TFIDF transformer; for ingredients and keywords we are using TFIDF as well, but with the tokenizer which seperate the words based on ','; For `Category` column we are using one hot encoder to transform each category to a column. <br>Note: for reasons behind choosing each of this transformers please see the Text cleaning notebook."
   ]
  },
  {
   "cell_type": "code",
   "execution_count": 14,
   "id": "07054bd9",
   "metadata": {},
   "outputs": [
    {
     "data": {
      "text/plain": [
       "array([[ 0.        ,  0.        ,  0.        , ..., -0.05368676,\n",
       "        -0.04060806, -0.05300098],\n",
       "       [ 0.        ,  0.        ,  0.        , ..., -0.06646121,\n",
       "        -0.01351221, -0.03008818],\n",
       "       [ 0.        ,  0.        ,  0.        , ..., -0.07923566,\n",
       "         0.31163793,  0.28087122],\n",
       "       ...,\n",
       "       [ 0.        ,  0.        ,  0.        , ..., -0.06646121,\n",
       "        -0.04873681, -0.06413005],\n",
       "       [ 0.        ,  0.        ,  0.        , ..., -0.08690033,\n",
       "        -0.04534983, -0.066094  ],\n",
       "       [ 0.        ,  0.        ,  0.        , ..., -0.06646121,\n",
       "         0.18970663,  0.16630723]])"
      ]
     },
     "execution_count": 14,
     "metadata": {},
     "output_type": "execute_result"
    }
   ],
   "source": [
    "preprocessor = ColumnTransformer(\n",
    "    transformers=[\n",
    "        ('RecipeCategory_transform', OneHotEncoder(), ['RecipeCategory']),\n",
    "        ('description_transform', My_normal_TFIDF_vectorizer, 'Description'),\n",
    "        ('keywords_transform', My_phrase_vectorizer, 'Keywords'),\n",
    "        ('ingredients_transform', My_phrase_vectorizer, 'RecipeIngredientParts'),\n",
    "        ('num', StandardScaler(), X_numeric)\n",
    "    ])\n",
    "\n",
    "# Fit the column transformer to the data and transform the input\n",
    "X_transformed = preprocessor.fit_transform(df)\n",
    "\n",
    "# Output the transformed data\n",
    "X_transformed.toarray()"
   ]
  },
  {
   "cell_type": "code",
   "execution_count": 15,
   "id": "d75ed88d",
   "metadata": {},
   "outputs": [
    {
     "data": {
      "text/plain": [
       "(9750, 3084)"
      ]
     },
     "execution_count": 15,
     "metadata": {},
     "output_type": "execute_result"
    }
   ],
   "source": [
    "X_transformed.shape"
   ]
  },
  {
   "cell_type": "markdown",
   "id": "9df48db6",
   "metadata": {},
   "source": [
    "Now we have all of recipes in rows and about 3K different features in columns."
   ]
  },
  {
   "cell_type": "markdown",
   "id": "6a07bba3",
   "metadata": {},
   "source": [
    "## Find Similarity\n",
    "\n",
    "Here, based on all the 3K features we will find the similarity between all the recipes."
   ]
  },
  {
   "cell_type": "code",
   "execution_count": 15,
   "id": "72db0f4b",
   "metadata": {},
   "outputs": [],
   "source": [
    "#use cosine similarity for similar recipes\n",
    "similarities = cosine_similarity(X_transformed, dense_output=False)"
   ]
  },
  {
   "cell_type": "code",
   "execution_count": 16,
   "id": "d40cb950",
   "metadata": {},
   "outputs": [
    {
     "data": {
      "text/plain": [
       "<9750x9750 sparse matrix of type '<class 'numpy.float64'>'\n",
       "\twith 95062500 stored elements in Compressed Sparse Row format>"
      ]
     },
     "execution_count": 16,
     "metadata": {},
     "output_type": "execute_result"
    }
   ],
   "source": [
    "similarities"
   ]
  },
  {
   "cell_type": "markdown",
   "id": "e48f8a0c",
   "metadata": {},
   "source": [
    "We have a sparse matrix of similarity between each two recipe."
   ]
  },
  {
   "cell_type": "markdown",
   "id": "dcf83972",
   "metadata": {},
   "source": [
    "## RECIPE RECOMMENDER\n",
    "In this step, we define a function which recieve a recipe name, and will give back the the most similar recipes with at least 10 reviews. "
   ]
  },
  {
   "cell_type": "code",
   "execution_count": 17,
   "id": "48410cdf",
   "metadata": {},
   "outputs": [],
   "source": [
    "def content_recommender(recipename, df, similarities, RevCount_threshold=10) :\n",
    "    \n",
    "    # Get the recipe by the name\n",
    "    Recipe_index = df[df['Name'] == recipename].index\n",
    "    \n",
    "    # Create a dataframe with info of recipe\n",
    "    sim_df = pd.DataFrame(\n",
    "        {'RecipeName': df['Name'],'RecipeId':df['RecipeId'],'Description': df['Description'],'rating':df['AggregatedRating'],'rev':df['ReviewCount'],\n",
    "         'cal':df['Calories'],'Keywords':df['Keywords'],'ingredients':df['RecipeIngredientParts'],'FatContent':df['FatContent'],\n",
    "         'SaturatedFatContent':df['SaturatedFatContent'], 'CholesterolContent':df['CholesterolContent'],'SodiumContent':df['SodiumContent'],\n",
    "         'CarbohydrateContent':df['CarbohydrateContent'],'FiberContent':df['FiberContent'],'SugarContent':df['SugarContent'],\n",
    "         'ProteinContent':df['ProteinContent'],'PrepTimeHours':df['PrepTimeHours'],'CookingTimeHours':df['CookingTimeHours'],\n",
    "         'TotalTimeHours':df['TotalTimeHours'],'image':df['image']\n",
    "         'similarity': np.array(similarities[Recipe_index, :].todense()).squeeze()\n",
    "        })\n",
    "    \n",
    "    # Get the top 10 recipe with > 10 review\n",
    "    top_recipe = sim_df[sim_df['rev'] > RevCount_threshold].sort_values(by='similarity', ascending=False).head(10)\n",
    "    \n",
    "    #drop the input recipe\n",
    "    top_recipe = top_recipe[top_recipe['RecipeName'] != recipename]\n",
    "    \n",
    "    return top_recipe"
   ]
  },
  {
   "cell_type": "markdown",
   "id": "23fd7edf",
   "metadata": {},
   "source": [
    "## Evaluating the model\n",
    "Now lets choose a recipe and find similar ones."
   ]
  },
  {
   "cell_type": "code",
   "execution_count": 18,
   "id": "100d6f41",
   "metadata": {
    "scrolled": true
   },
   "outputs": [
    {
     "data": {
      "text/html": [
       "<div>\n",
       "<style scoped>\n",
       "    .dataframe tbody tr th:only-of-type {\n",
       "        vertical-align: middle;\n",
       "    }\n",
       "\n",
       "    .dataframe tbody tr th {\n",
       "        vertical-align: top;\n",
       "    }\n",
       "\n",
       "    .dataframe thead th {\n",
       "        text-align: right;\n",
       "    }\n",
       "</style>\n",
       "<table border=\"1\" class=\"dataframe\">\n",
       "  <thead>\n",
       "    <tr style=\"text-align: right;\">\n",
       "      <th></th>\n",
       "      <th>RecipeId</th>\n",
       "      <th>Name</th>\n",
       "      <th>AuthorId</th>\n",
       "      <th>AuthorName</th>\n",
       "      <th>DatePublished</th>\n",
       "      <th>Description</th>\n",
       "      <th>Images</th>\n",
       "      <th>RecipeCategory</th>\n",
       "      <th>Keywords</th>\n",
       "      <th>RecipeIngredientQuantities</th>\n",
       "      <th>...</th>\n",
       "      <th>CarbohydrateContent</th>\n",
       "      <th>FiberContent</th>\n",
       "      <th>SugarContent</th>\n",
       "      <th>ProteinContent</th>\n",
       "      <th>RecipeInstructions</th>\n",
       "      <th>PrepTimeHours</th>\n",
       "      <th>CookingTimeHours</th>\n",
       "      <th>TotalTimeHours</th>\n",
       "      <th>CaloriesCategory</th>\n",
       "      <th>rateTwoScale</th>\n",
       "    </tr>\n",
       "  </thead>\n",
       "  <tbody>\n",
       "    <tr>\n",
       "      <th>7398</th>\n",
       "      <td>206003</td>\n",
       "      <td>Linda's Thai  Sweet Chili  Sauce for Dipping (...</td>\n",
       "      <td>68526</td>\n",
       "      <td>Lindas Busy Kitchen</td>\n",
       "      <td>2007-01-17 15:18:00+00:00</td>\n",
       "      <td>I created this recipe to make Thai Chicken Win...</td>\n",
       "      <td>[https://img.sndimg.com/food/image/upload/w_55...</td>\n",
       "      <td>Sauces</td>\n",
       "      <td>Asian, &lt; 30 Mins, Easy,</td>\n",
       "      <td>[2, 1, 2, 1⁄3, 2, 1, 2, 1⁄4]</td>\n",
       "      <td>...</td>\n",
       "      <td>41.8</td>\n",
       "      <td>0.2</td>\n",
       "      <td>33.3</td>\n",
       "      <td>0.2</td>\n",
       "      <td>[In a small pan add the first 6 ingredients to...</td>\n",
       "      <td>0.083333</td>\n",
       "      <td>0.250000</td>\n",
       "      <td>0.333333</td>\n",
       "      <td>lessthan550</td>\n",
       "      <td>1</td>\n",
       "    </tr>\n",
       "    <tr>\n",
       "      <th>7767</th>\n",
       "      <td>16957</td>\n",
       "      <td>Hot Creamy Crab Dip</td>\n",
       "      <td>27416</td>\n",
       "      <td>William Uncle Bill</td>\n",
       "      <td>2002-01-08 09:43:00+00:00</td>\n",
       "      <td>An excellent easy to make appetizer. I have be...</td>\n",
       "      <td>[https://img.sndimg.com/food/image/upload/w_55...</td>\n",
       "      <td>Spreads</td>\n",
       "      <td>Lunch/Snacks, Crab, Canadian, &lt; 30 Mins, Oven,...</td>\n",
       "      <td>[8, 1⁄2, 7 1⁄2, 4, 1, 1⁄8]</td>\n",
       "      <td>...</td>\n",
       "      <td>1.2</td>\n",
       "      <td>0.1</td>\n",
       "      <td>0.7</td>\n",
       "      <td>5.7</td>\n",
       "      <td>[Preheat oven to 350 F degrees., In a mixing b...</td>\n",
       "      <td>0.166667</td>\n",
       "      <td>0.333333</td>\n",
       "      <td>0.500000</td>\n",
       "      <td>lessthan550</td>\n",
       "      <td>1</td>\n",
       "    </tr>\n",
       "    <tr>\n",
       "      <th>7638</th>\n",
       "      <td>137627</td>\n",
       "      <td>Lemon Chicken-Just Like Take out !</td>\n",
       "      <td>162888</td>\n",
       "      <td>Chef Dee</td>\n",
       "      <td>2005-09-15 19:45:00+00:00</td>\n",
       "      <td>Lightly breaded and a distinct lemon flavor, t...</td>\n",
       "      <td>[https://img.sndimg.com/food/image/upload/w_55...</td>\n",
       "      <td>Chicken</td>\n",
       "      <td>Poultry, Meat, Asian, Savory, &lt; 60 Mins, Easy,</td>\n",
       "      <td>[6, 2, 1⁄4, 1⁄2, 2, 2, 1⁄2, 2, 2, 1 1⁄2, 2]</td>\n",
       "      <td>...</td>\n",
       "      <td>25.1</td>\n",
       "      <td>0.1</td>\n",
       "      <td>17.1</td>\n",
       "      <td>29.1</td>\n",
       "      <td>[Preheat oven to 325., Cut each chicken breast...</td>\n",
       "      <td>0.333333</td>\n",
       "      <td>0.500000</td>\n",
       "      <td>0.833333</td>\n",
       "      <td>between550-4K</td>\n",
       "      <td>1</td>\n",
       "    </tr>\n",
       "  </tbody>\n",
       "</table>\n",
       "<p>3 rows × 28 columns</p>\n",
       "</div>"
      ],
      "text/plain": [
       "      RecipeId                                               Name  AuthorId  \\\n",
       "7398    206003  Linda's Thai  Sweet Chili  Sauce for Dipping (...     68526   \n",
       "7767     16957                                Hot Creamy Crab Dip     27416   \n",
       "7638    137627                 Lemon Chicken-Just Like Take out !    162888   \n",
       "\n",
       "               AuthorName             DatePublished  \\\n",
       "7398  Lindas Busy Kitchen 2007-01-17 15:18:00+00:00   \n",
       "7767   William Uncle Bill 2002-01-08 09:43:00+00:00   \n",
       "7638             Chef Dee 2005-09-15 19:45:00+00:00   \n",
       "\n",
       "                                            Description  \\\n",
       "7398  I created this recipe to make Thai Chicken Win...   \n",
       "7767  An excellent easy to make appetizer. I have be...   \n",
       "7638  Lightly breaded and a distinct lemon flavor, t...   \n",
       "\n",
       "                                                 Images RecipeCategory  \\\n",
       "7398  [https://img.sndimg.com/food/image/upload/w_55...         Sauces   \n",
       "7767  [https://img.sndimg.com/food/image/upload/w_55...        Spreads   \n",
       "7638  [https://img.sndimg.com/food/image/upload/w_55...        Chicken   \n",
       "\n",
       "                                               Keywords  \\\n",
       "7398                           Asian, < 30 Mins, Easy,    \n",
       "7767  Lunch/Snacks, Crab, Canadian, < 30 Mins, Oven,...   \n",
       "7638    Poultry, Meat, Asian, Savory, < 60 Mins, Easy,    \n",
       "\n",
       "                       RecipeIngredientQuantities  ... CarbohydrateContent  \\\n",
       "7398                 [2, 1, 2, 1⁄3, 2, 1, 2, 1⁄4]  ...                41.8   \n",
       "7767                   [8, 1⁄2, 7 1⁄2, 4, 1, 1⁄8]  ...                 1.2   \n",
       "7638  [6, 2, 1⁄4, 1⁄2, 2, 2, 1⁄2, 2, 2, 1 1⁄2, 2]  ...                25.1   \n",
       "\n",
       "      FiberContent  SugarContent  ProteinContent  \\\n",
       "7398           0.2          33.3             0.2   \n",
       "7767           0.1           0.7             5.7   \n",
       "7638           0.1          17.1            29.1   \n",
       "\n",
       "                                     RecipeInstructions  PrepTimeHours  \\\n",
       "7398  [In a small pan add the first 6 ingredients to...       0.083333   \n",
       "7767  [Preheat oven to 350 F degrees., In a mixing b...       0.166667   \n",
       "7638  [Preheat oven to 325., Cut each chicken breast...       0.333333   \n",
       "\n",
       "      CookingTimeHours  TotalTimeHours  CaloriesCategory  rateTwoScale  \n",
       "7398          0.250000        0.333333       lessthan550             1  \n",
       "7767          0.333333        0.500000       lessthan550             1  \n",
       "7638          0.500000        0.833333     between550-4K             1  \n",
       "\n",
       "[3 rows x 28 columns]"
      ]
     },
     "execution_count": 18,
     "metadata": {},
     "output_type": "execute_result"
    }
   ],
   "source": [
    "#sample the df to choose a name you like\n",
    "df.sample(3)"
   ]
  },
  {
   "cell_type": "markdown",
   "id": "74d41c80",
   "metadata": {},
   "source": [
    "Some recipe names to try: Peanut Butter Pie , Lemon Chicken-Just Like Take out !."
   ]
  },
  {
   "cell_type": "code",
   "execution_count": 27,
   "id": "4842d460",
   "metadata": {
    "scrolled": false
   },
   "outputs": [
    {
     "data": {
      "text/html": [
       "<div>\n",
       "<style scoped>\n",
       "    .dataframe tbody tr th:only-of-type {\n",
       "        vertical-align: middle;\n",
       "    }\n",
       "\n",
       "    .dataframe tbody tr th {\n",
       "        vertical-align: top;\n",
       "    }\n",
       "\n",
       "    .dataframe thead th {\n",
       "        text-align: right;\n",
       "    }\n",
       "</style>\n",
       "<table border=\"1\" class=\"dataframe\">\n",
       "  <thead>\n",
       "    <tr style=\"text-align: right;\">\n",
       "      <th></th>\n",
       "      <th>RecipeName</th>\n",
       "      <th>RecipeId</th>\n",
       "      <th>Description</th>\n",
       "      <th>rating</th>\n",
       "      <th>rev</th>\n",
       "      <th>cal</th>\n",
       "      <th>Keywords</th>\n",
       "      <th>ingredients</th>\n",
       "      <th>FatContent</th>\n",
       "      <th>SaturatedFatContent</th>\n",
       "      <th>CholesterolContent</th>\n",
       "      <th>SodiumContent</th>\n",
       "      <th>CarbohydrateContent</th>\n",
       "      <th>FiberContent</th>\n",
       "      <th>SugarContent</th>\n",
       "      <th>ProteinContent</th>\n",
       "      <th>PrepTimeHours</th>\n",
       "      <th>CookingTimeHours</th>\n",
       "      <th>TotalTimeHours</th>\n",
       "      <th>similarity</th>\n",
       "    </tr>\n",
       "  </thead>\n",
       "  <tbody>\n",
       "    <tr>\n",
       "      <th>7330</th>\n",
       "      <td>Lemon Pie</td>\n",
       "      <td>8264</td>\n",
       "      <td>Make and share this Lemon Pie recipe from Food...</td>\n",
       "      <td>5.0</td>\n",
       "      <td>25.0</td>\n",
       "      <td>425.9</td>\n",
       "      <td>Dessert, &lt; 15 Mins,</td>\n",
       "      <td>sugar, all-purpose flour, cornstarch, salt, bo...</td>\n",
       "      <td>13.2</td>\n",
       "      <td>3.6</td>\n",
       "      <td>110.7</td>\n",
       "      <td>364.9</td>\n",
       "      <td>74.2</td>\n",
       "      <td>0.7</td>\n",
       "      <td>50.4</td>\n",
       "      <td>4.1</td>\n",
       "      <td>0.000000</td>\n",
       "      <td>0.000000</td>\n",
       "      <td>0.000000</td>\n",
       "      <td>0.550458</td>\n",
       "    </tr>\n",
       "    <tr>\n",
       "      <th>9148</th>\n",
       "      <td>No Bake Creamy Peanut Butter Fudge Pie</td>\n",
       "      <td>35084</td>\n",
       "      <td>I found this recipe on a message board  a whil...</td>\n",
       "      <td>5.0</td>\n",
       "      <td>22.0</td>\n",
       "      <td>560.3</td>\n",
       "      <td>Dessert, &lt; 15 Mins, Easy,</td>\n",
       "      <td>cream cheese, powdered sugar, creamy peanut bu...</td>\n",
       "      <td>38.7</td>\n",
       "      <td>20.9</td>\n",
       "      <td>31.2</td>\n",
       "      <td>329.5</td>\n",
       "      <td>49.5</td>\n",
       "      <td>1.4</td>\n",
       "      <td>40.2</td>\n",
       "      <td>7.5</td>\n",
       "      <td>0.166667</td>\n",
       "      <td>0.000000</td>\n",
       "      <td>0.166667</td>\n",
       "      <td>0.546098</td>\n",
       "    </tr>\n",
       "    <tr>\n",
       "      <th>7903</th>\n",
       "      <td>Chess Pie</td>\n",
       "      <td>8167</td>\n",
       "      <td>Make and share this Chess Pie recipe from Food...</td>\n",
       "      <td>5.0</td>\n",
       "      <td>24.0</td>\n",
       "      <td>407.9</td>\n",
       "      <td>Dessert, &lt; 60 Mins, Oven, Easy,</td>\n",
       "      <td>eggs, sugar, butter, vinegar, cornmeal, flour,...</td>\n",
       "      <td>20.9</td>\n",
       "      <td>8.4</td>\n",
       "      <td>144.3</td>\n",
       "      <td>271.6</td>\n",
       "      <td>49.3</td>\n",
       "      <td>1.2</td>\n",
       "      <td>33.5</td>\n",
       "      <td>6.3</td>\n",
       "      <td>0.250000</td>\n",
       "      <td>0.583333</td>\n",
       "      <td>0.833333</td>\n",
       "      <td>0.525053</td>\n",
       "    </tr>\n",
       "    <tr>\n",
       "      <th>9537</th>\n",
       "      <td>Orange Creamsicle Pie</td>\n",
       "      <td>95375</td>\n",
       "      <td>Make and share this Orange Creamsicle Pie reci...</td>\n",
       "      <td>5.0</td>\n",
       "      <td>21.0</td>\n",
       "      <td>299.3</td>\n",
       "      <td>Dessert, &lt; 15 Mins, For Large Groups, Beginner...</td>\n",
       "      <td>cream cheese, instant vanilla pudding, orange ...</td>\n",
       "      <td>17.5</td>\n",
       "      <td>10.5</td>\n",
       "      <td>15.6</td>\n",
       "      <td>297.4</td>\n",
       "      <td>33.8</td>\n",
       "      <td>0.3</td>\n",
       "      <td>27.2</td>\n",
       "      <td>2.8</td>\n",
       "      <td>0.166667</td>\n",
       "      <td>0.000000</td>\n",
       "      <td>0.166667</td>\n",
       "      <td>0.522662</td>\n",
       "    </tr>\n",
       "    <tr>\n",
       "      <th>376</th>\n",
       "      <td>Butterfinger Pie</td>\n",
       "      <td>29478</td>\n",
       "      <td>This chilled pie will be gone right before you...</td>\n",
       "      <td>5.0</td>\n",
       "      <td>188.0</td>\n",
       "      <td>582.8</td>\n",
       "      <td>Dessert, &lt; 15 Mins, Easy,</td>\n",
       "      <td>cream cheese, Cool Whip, graham cracker crust,</td>\n",
       "      <td>36.3</td>\n",
       "      <td>20.5</td>\n",
       "      <td>31.2</td>\n",
       "      <td>374.2</td>\n",
       "      <td>62.7</td>\n",
       "      <td>1.3</td>\n",
       "      <td>42.5</td>\n",
       "      <td>5.8</td>\n",
       "      <td>0.166667</td>\n",
       "      <td>0.000000</td>\n",
       "      <td>0.166667</td>\n",
       "      <td>0.519569</td>\n",
       "    </tr>\n",
       "  </tbody>\n",
       "</table>\n",
       "</div>"
      ],
      "text/plain": [
       "                                  RecipeName  RecipeId  \\\n",
       "7330                               Lemon Pie      8264   \n",
       "9148  No Bake Creamy Peanut Butter Fudge Pie     35084   \n",
       "7903                               Chess Pie      8167   \n",
       "9537                   Orange Creamsicle Pie     95375   \n",
       "376                         Butterfinger Pie     29478   \n",
       "\n",
       "                                            Description  rating    rev    cal  \\\n",
       "7330  Make and share this Lemon Pie recipe from Food...     5.0   25.0  425.9   \n",
       "9148  I found this recipe on a message board  a whil...     5.0   22.0  560.3   \n",
       "7903  Make and share this Chess Pie recipe from Food...     5.0   24.0  407.9   \n",
       "9537  Make and share this Orange Creamsicle Pie reci...     5.0   21.0  299.3   \n",
       "376   This chilled pie will be gone right before you...     5.0  188.0  582.8   \n",
       "\n",
       "                                               Keywords  \\\n",
       "7330                               Dessert, < 15 Mins,    \n",
       "9148                         Dessert, < 15 Mins, Easy,    \n",
       "7903                   Dessert, < 60 Mins, Oven, Easy,    \n",
       "9537  Dessert, < 15 Mins, For Large Groups, Beginner...   \n",
       "376                          Dessert, < 15 Mins, Easy,    \n",
       "\n",
       "                                            ingredients  FatContent  \\\n",
       "7330  sugar, all-purpose flour, cornstarch, salt, bo...        13.2   \n",
       "9148  cream cheese, powdered sugar, creamy peanut bu...        38.7   \n",
       "7903  eggs, sugar, butter, vinegar, cornmeal, flour,...        20.9   \n",
       "9537  cream cheese, instant vanilla pudding, orange ...        17.5   \n",
       "376     cream cheese, Cool Whip, graham cracker crust,         36.3   \n",
       "\n",
       "      SaturatedFatContent  CholesterolContent  SodiumContent  \\\n",
       "7330                  3.6               110.7          364.9   \n",
       "9148                 20.9                31.2          329.5   \n",
       "7903                  8.4               144.3          271.6   \n",
       "9537                 10.5                15.6          297.4   \n",
       "376                  20.5                31.2          374.2   \n",
       "\n",
       "      CarbohydrateContent  FiberContent  SugarContent  ProteinContent  \\\n",
       "7330                 74.2           0.7          50.4             4.1   \n",
       "9148                 49.5           1.4          40.2             7.5   \n",
       "7903                 49.3           1.2          33.5             6.3   \n",
       "9537                 33.8           0.3          27.2             2.8   \n",
       "376                  62.7           1.3          42.5             5.8   \n",
       "\n",
       "      PrepTimeHours  CookingTimeHours  TotalTimeHours  similarity  \n",
       "7330       0.000000          0.000000        0.000000    0.550458  \n",
       "9148       0.166667          0.000000        0.166667    0.546098  \n",
       "7903       0.250000          0.583333        0.833333    0.525053  \n",
       "9537       0.166667          0.000000        0.166667    0.522662  \n",
       "376        0.166667          0.000000        0.166667    0.519569  "
      ]
     },
     "execution_count": 27,
     "metadata": {},
     "output_type": "execute_result"
    }
   ],
   "source": [
    "#input the chosen name to below function\n",
    "similar_recipe = content_recommender('Peanut Butter Pie', df, similarities, RevCount_threshold=4)\n",
    "\n",
    "# see the top 5 recommended recipes\n",
    "similar_recipe.head(5)"
   ]
  },
  {
   "cell_type": "markdown",
   "id": "dd17fa39",
   "metadata": {},
   "source": [
    "Now, lets redo it by less and more important featuers like keywords and ingredientds."
   ]
  },
  {
   "cell_type": "code",
   "execution_count": 20,
   "id": "7602813e",
   "metadata": {},
   "outputs": [],
   "source": [
    "X_important = df[['Keywords','RecipeIngredientParts']]"
   ]
  },
  {
   "cell_type": "code",
   "execution_count": 21,
   "id": "ff5232f2",
   "metadata": {},
   "outputs": [
    {
     "data": {
      "text/plain": [
       "array([[0.09092719, 0.        , 0.        , ..., 0.        , 0.        ,\n",
       "        0.        ],\n",
       "       [0.16601963, 0.        , 0.        , ..., 0.        , 0.        ,\n",
       "        0.        ],\n",
       "       [0.0957935 , 0.        , 0.        , ..., 0.        , 0.        ,\n",
       "        0.        ],\n",
       "       ...,\n",
       "       [0.11343809, 0.        , 0.29045596, ..., 0.        , 0.        ,\n",
       "        0.        ],\n",
       "       [0.13384394, 0.38896704, 0.        , ..., 0.        , 0.        ,\n",
       "        0.        ],\n",
       "       [0.20175782, 0.        , 0.        , ..., 0.        , 0.        ,\n",
       "        0.        ]])"
      ]
     },
     "execution_count": 21,
     "metadata": {},
     "output_type": "execute_result"
    }
   ],
   "source": [
    "preprocessor_second = ColumnTransformer(\n",
    "    transformers=[\n",
    "        ('keywords_transform', My_phrase_vectorizer, 'Keywords'),\n",
    "        ('ingredients_transform', My_phrase_vectorizer, 'RecipeIngredientParts')\n",
    "    ])\n",
    "\n",
    "# Fit the column transformer to the data and transform the input\n",
    "# by defualt the columntransformer will drop the other columns which are not modified in the function\n",
    "X_important_transformed = preprocessor_second.fit_transform(df)\n",
    "\n",
    "# Output the transformed data\n",
    "X_important_transformed.toarray()"
   ]
  },
  {
   "cell_type": "code",
   "execution_count": 22,
   "id": "959c6826",
   "metadata": {},
   "outputs": [
    {
     "data": {
      "text/plain": [
       "(9750, 954)"
      ]
     },
     "execution_count": 22,
     "metadata": {},
     "output_type": "execute_result"
    }
   ],
   "source": [
    "X_important_transformed.shape"
   ]
  },
  {
   "cell_type": "markdown",
   "id": "d69faf27",
   "metadata": {},
   "source": [
    "Now we have one third of features in theprevious model."
   ]
  },
  {
   "cell_type": "code",
   "execution_count": 23,
   "id": "ef03ef60",
   "metadata": {},
   "outputs": [],
   "source": [
    "#use cosine similarity for similar recipes\n",
    "similarities_second = cosine_similarity(X_important_transformed, dense_output=False)"
   ]
  },
  {
   "cell_type": "code",
   "execution_count": 24,
   "id": "8133434c",
   "metadata": {},
   "outputs": [
    {
     "data": {
      "text/plain": [
       "<9750x9750 sparse matrix of type '<class 'numpy.float64'>'\n",
       "\twith 95055660 stored elements in Compressed Sparse Row format>"
      ]
     },
     "execution_count": 24,
     "metadata": {},
     "output_type": "execute_result"
    }
   ],
   "source": [
    "similarities_second"
   ]
  },
  {
   "cell_type": "code",
   "execution_count": null,
   "id": "beac817d",
   "metadata": {},
   "outputs": [],
   "source": [
    "#import joblib\n",
    "\n",
    "# Pickle our new pipeline for both the vectorizer and the sentiment model\n",
    "#joblib.dump(similarities_second, \"similarities_second_image.pkl\")"
   ]
  },
  {
   "cell_type": "markdown",
   "id": "79501858",
   "metadata": {},
   "source": [
    "To build a webapplication, we have retrained the model with data excluding recipes without image and have saved the similarities in a pkl file. Thus the above code is commented to prevent rewriting."
   ]
  },
  {
   "cell_type": "code",
   "execution_count": 25,
   "id": "3cd18284",
   "metadata": {},
   "outputs": [],
   "source": [
    "def content_recommender_second(recipename, df, similarities, RevCount_threshold=10) :\n",
    "    \n",
    "    # Get the recipe by the name\n",
    "    Recipe_index = df[df['Name'] == recipename].index\n",
    "    \n",
    "    # Create a dataframe with info of recipe\n",
    "    sim_df = pd.DataFrame(\n",
    "        {'RecipeName': df['Name'],'RecipeId':df['RecipeId'],'Description': df['Description'],'rating':df['AggregatedRating'],'rev':df['ReviewCount'],\n",
    "         'category':df['RecipeCategory'],'cal':df['Calories'],'Keywords':df['Keywords'],'ingredients':df['RecipeIngredientParts'],\n",
    "         'similarity': np.array(similarities_second[Recipe_index, :].todense()).squeeze()\n",
    "        })\n",
    "    \n",
    "    # Get the top 10 recipe with > 10 review\n",
    "    top_recipe = sim_df[sim_df['rev'] > RevCount_threshold].sort_values(by='similarity', ascending=False).head(10)\n",
    "    \n",
    "    #drop the input recipe\n",
    "    top_recipe = top_recipe[top_recipe['RecipeName'] != recipename]\n",
    "    \n",
    "    return top_recipe"
   ]
  },
  {
   "cell_type": "code",
   "execution_count": 28,
   "id": "bebd7930",
   "metadata": {},
   "outputs": [
    {
     "data": {
      "text/html": [
       "<div>\n",
       "<style scoped>\n",
       "    .dataframe tbody tr th:only-of-type {\n",
       "        vertical-align: middle;\n",
       "    }\n",
       "\n",
       "    .dataframe tbody tr th {\n",
       "        vertical-align: top;\n",
       "    }\n",
       "\n",
       "    .dataframe thead th {\n",
       "        text-align: right;\n",
       "    }\n",
       "</style>\n",
       "<table border=\"1\" class=\"dataframe\">\n",
       "  <thead>\n",
       "    <tr style=\"text-align: right;\">\n",
       "      <th></th>\n",
       "      <th>RecipeName</th>\n",
       "      <th>RecipeId</th>\n",
       "      <th>Description</th>\n",
       "      <th>rating</th>\n",
       "      <th>rev</th>\n",
       "      <th>category</th>\n",
       "      <th>cal</th>\n",
       "      <th>Keywords</th>\n",
       "      <th>ingredients</th>\n",
       "      <th>similarity</th>\n",
       "    </tr>\n",
       "  </thead>\n",
       "  <tbody>\n",
       "    <tr>\n",
       "      <th>2514</th>\n",
       "      <td>Best Ever Buckeyes</td>\n",
       "      <td>16716</td>\n",
       "      <td>Small peanut butter balls that taste even bett...</td>\n",
       "      <td>5.0</td>\n",
       "      <td>56.0</td>\n",
       "      <td>Candy</td>\n",
       "      <td>151.8</td>\n",
       "      <td>Dessert, Fruit, Peanut Butter, Kid Friendly, C...</td>\n",
       "      <td>peanut butter, margarine, butter, powdered sug...</td>\n",
       "      <td>0.542836</td>\n",
       "    </tr>\n",
       "    <tr>\n",
       "      <th>2337</th>\n",
       "      <td>Super-Easy Microwave Peanut Butter Fudge</td>\n",
       "      <td>42547</td>\n",
       "      <td>This is a very easy, delicious peanut butter f...</td>\n",
       "      <td>5.0</td>\n",
       "      <td>59.0</td>\n",
       "      <td>Candy</td>\n",
       "      <td>136.0</td>\n",
       "      <td>Dessert, Fruit, Nuts, Microwave, &lt; 15 Mins, Ea...</td>\n",
       "      <td>peanut butter,</td>\n",
       "      <td>0.542686</td>\n",
       "    </tr>\n",
       "    <tr>\n",
       "      <th>1394</th>\n",
       "      <td>Peanut Butter Frosting</td>\n",
       "      <td>33520</td>\n",
       "      <td>This is soooo good on a chocolate cake! I usua...</td>\n",
       "      <td>5.0</td>\n",
       "      <td>83.0</td>\n",
       "      <td>Dessert</td>\n",
       "      <td>288.7</td>\n",
       "      <td>Kid Friendly, Kosher, &lt; 15 Mins, Easy,</td>\n",
       "      <td>peanut butter, margarine, powdered sugar, milk,</td>\n",
       "      <td>0.534876</td>\n",
       "    </tr>\n",
       "    <tr>\n",
       "      <th>6356</th>\n",
       "      <td>White Chocolate No-Bake Cheesecake Pie</td>\n",
       "      <td>24423</td>\n",
       "      <td>Make and share this White Chocolate No-Bake Ch...</td>\n",
       "      <td>5.0</td>\n",
       "      <td>28.0</td>\n",
       "      <td>Cheesecake</td>\n",
       "      <td>547.2</td>\n",
       "      <td>Dessert, Cheese, European, Kid Friendly, Potlu...</td>\n",
       "      <td>white chocolate chips, cream cheese, 9-inch gr...</td>\n",
       "      <td>0.534001</td>\n",
       "    </tr>\n",
       "    <tr>\n",
       "      <th>6155</th>\n",
       "      <td>Chocolate, Butterscotch, Pb Rice  Krispies Treats</td>\n",
       "      <td>100298</td>\n",
       "      <td>Born with a Rice Krispie treat in my hand, you...</td>\n",
       "      <td>5.0</td>\n",
       "      <td>29.0</td>\n",
       "      <td>Bar Cookie</td>\n",
       "      <td>56.4</td>\n",
       "      <td>Dessert, Lunch/Snacks, Cookie &amp; Brownie, Potlu...</td>\n",
       "      <td>peanut butter, corn syrup, sugar,</td>\n",
       "      <td>0.533334</td>\n",
       "    </tr>\n",
       "  </tbody>\n",
       "</table>\n",
       "</div>"
      ],
      "text/plain": [
       "                                             RecipeName  RecipeId  \\\n",
       "2514                                 Best Ever Buckeyes     16716   \n",
       "2337           Super-Easy Microwave Peanut Butter Fudge     42547   \n",
       "1394                             Peanut Butter Frosting     33520   \n",
       "6356             White Chocolate No-Bake Cheesecake Pie     24423   \n",
       "6155  Chocolate, Butterscotch, Pb Rice  Krispies Treats    100298   \n",
       "\n",
       "                                            Description  rating   rev  \\\n",
       "2514  Small peanut butter balls that taste even bett...     5.0  56.0   \n",
       "2337  This is a very easy, delicious peanut butter f...     5.0  59.0   \n",
       "1394  This is soooo good on a chocolate cake! I usua...     5.0  83.0   \n",
       "6356  Make and share this White Chocolate No-Bake Ch...     5.0  28.0   \n",
       "6155  Born with a Rice Krispie treat in my hand, you...     5.0  29.0   \n",
       "\n",
       "        category    cal                                           Keywords  \\\n",
       "2514       Candy  151.8  Dessert, Fruit, Peanut Butter, Kid Friendly, C...   \n",
       "2337       Candy  136.0  Dessert, Fruit, Nuts, Microwave, < 15 Mins, Ea...   \n",
       "1394     Dessert  288.7            Kid Friendly, Kosher, < 15 Mins, Easy,    \n",
       "6356  Cheesecake  547.2  Dessert, Cheese, European, Kid Friendly, Potlu...   \n",
       "6155  Bar Cookie   56.4  Dessert, Lunch/Snacks, Cookie & Brownie, Potlu...   \n",
       "\n",
       "                                            ingredients  similarity  \n",
       "2514  peanut butter, margarine, butter, powdered sug...    0.542836  \n",
       "2337                                    peanut butter,     0.542686  \n",
       "1394   peanut butter, margarine, powdered sugar, milk,     0.534876  \n",
       "6356  white chocolate chips, cream cheese, 9-inch gr...    0.534001  \n",
       "6155                 peanut butter, corn syrup, sugar,     0.533334  "
      ]
     },
     "execution_count": 28,
     "metadata": {},
     "output_type": "execute_result"
    }
   ],
   "source": [
    "#input the chosen name to below function\n",
    "similar_recipe = content_recommender_second('Peanut Butter Pie', df, similarities_second, RevCount_threshold=4)\n",
    "\n",
    "# see the top 5 recommended recipes\n",
    "similar_recipe.head(5)"
   ]
  },
  {
   "cell_type": "markdown",
   "id": "3660b199",
   "metadata": {},
   "source": [
    "As we see, two models resulting in two different answers, which both are acceptable and related recipes. However, the weakness of this model is that we do not have a numeric criteria to evaluate the model. In the next notebook we will solve this problem by using other recommendation methods."
   ]
  },
  {
   "cell_type": "code",
   "execution_count": null,
   "id": "32dc0fa2",
   "metadata": {},
   "outputs": [],
   "source": []
  }
 ],
 "metadata": {
  "kernelspec": {
   "display_name": "Python 3 (ipykernel)",
   "language": "python",
   "name": "python3"
  },
  "language_info": {
   "codemirror_mode": {
    "name": "ipython",
    "version": 3
   },
   "file_extension": ".py",
   "mimetype": "text/x-python",
   "name": "python",
   "nbconvert_exporter": "python",
   "pygments_lexer": "ipython3",
   "version": "3.9.12"
  }
 },
 "nbformat": 4,
 "nbformat_minor": 5
}
