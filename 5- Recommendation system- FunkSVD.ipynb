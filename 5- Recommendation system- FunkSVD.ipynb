{
 "cells": [
  {
   "cell_type": "markdown",
   "id": "5beabd35",
   "metadata": {},
   "source": [
    "## Faezeh Yazdi Capstone Project - Food Recomendation System\n",
    "\n",
    "## Notebook : FunkSVD recommendation system\n",
    "This notebook aims to build a recommendation system by using FunkSVD."
   ]
  },
  {
   "cell_type": "code",
   "execution_count": 2,
   "id": "760539e4",
   "metadata": {},
   "outputs": [],
   "source": [
    "import pandas as pd\n",
    "import numpy as np \n",
    "import matplotlib.pyplot as plt\n",
    "from sklearn.model_selection import train_test_split"
   ]
  },
  {
   "cell_type": "code",
   "execution_count": 3,
   "id": "aa8c26d5",
   "metadata": {},
   "outputs": [],
   "source": [
    "np.random.seed(0)"
   ]
  },
  {
   "cell_type": "markdown",
   "id": "1307b09c",
   "metadata": {},
   "source": [
    "Importing review dataset."
   ]
  },
  {
   "cell_type": "code",
   "execution_count": 4,
   "id": "dde0aa0a",
   "metadata": {},
   "outputs": [],
   "source": [
    "df = pd.read_parquet(\"Transformed Data/ cleanedReviewdf.parquet\")"
   ]
  },
  {
   "cell_type": "code",
   "execution_count": 5,
   "id": "4a64a51f",
   "metadata": {
    "scrolled": false
   },
   "outputs": [
    {
     "data": {
      "text/html": [
       "<div>\n",
       "<style scoped>\n",
       "    .dataframe tbody tr th:only-of-type {\n",
       "        vertical-align: middle;\n",
       "    }\n",
       "\n",
       "    .dataframe tbody tr th {\n",
       "        vertical-align: top;\n",
       "    }\n",
       "\n",
       "    .dataframe thead th {\n",
       "        text-align: right;\n",
       "    }\n",
       "</style>\n",
       "<table border=\"1\" class=\"dataframe\">\n",
       "  <thead>\n",
       "    <tr style=\"text-align: right;\">\n",
       "      <th></th>\n",
       "      <th>ReviewId</th>\n",
       "      <th>RecipeId</th>\n",
       "      <th>Review_AuthorId</th>\n",
       "      <th>Review_AuthorName</th>\n",
       "      <th>Review_Rating</th>\n",
       "      <th>Review</th>\n",
       "      <th>Review_DateSubmitted</th>\n",
       "    </tr>\n",
       "  </thead>\n",
       "  <tbody>\n",
       "    <tr>\n",
       "      <th>0</th>\n",
       "      <td>2</td>\n",
       "      <td>992</td>\n",
       "      <td>2008</td>\n",
       "      <td>gayg msft</td>\n",
       "      <td>5</td>\n",
       "      <td>better than any you can get at a restaurant!</td>\n",
       "      <td>2000-01-25 21:44:00+00:00</td>\n",
       "    </tr>\n",
       "    <tr>\n",
       "      <th>1</th>\n",
       "      <td>7</td>\n",
       "      <td>4384</td>\n",
       "      <td>1634</td>\n",
       "      <td>Bill Hilbrich</td>\n",
       "      <td>4</td>\n",
       "      <td>I cut back on the mayo, and made up the differ...</td>\n",
       "      <td>2001-10-17 16:49:59+00:00</td>\n",
       "    </tr>\n",
       "    <tr>\n",
       "      <th>2</th>\n",
       "      <td>9</td>\n",
       "      <td>4523</td>\n",
       "      <td>2046</td>\n",
       "      <td>Gay Gilmore ckpt</td>\n",
       "      <td>2</td>\n",
       "      <td>i think i did something wrong because i could ...</td>\n",
       "      <td>2000-02-25 09:00:00+00:00</td>\n",
       "    </tr>\n",
       "    <tr>\n",
       "      <th>3</th>\n",
       "      <td>13</td>\n",
       "      <td>7435</td>\n",
       "      <td>1773</td>\n",
       "      <td>Malarkey Test</td>\n",
       "      <td>5</td>\n",
       "      <td>easily the best i have ever had.  juicy flavor...</td>\n",
       "      <td>2000-03-13 21:15:00+00:00</td>\n",
       "    </tr>\n",
       "    <tr>\n",
       "      <th>4</th>\n",
       "      <td>14</td>\n",
       "      <td>44</td>\n",
       "      <td>2085</td>\n",
       "      <td>Tony Small</td>\n",
       "      <td>5</td>\n",
       "      <td>An excellent dish.</td>\n",
       "      <td>2000-03-28 12:51:00+00:00</td>\n",
       "    </tr>\n",
       "  </tbody>\n",
       "</table>\n",
       "</div>"
      ],
      "text/plain": [
       "   ReviewId  RecipeId  Review_AuthorId Review_AuthorName  Review_Rating  \\\n",
       "0         2       992             2008         gayg msft              5   \n",
       "1         7      4384             1634     Bill Hilbrich              4   \n",
       "2         9      4523             2046  Gay Gilmore ckpt              2   \n",
       "3        13      7435             1773     Malarkey Test              5   \n",
       "4        14        44             2085        Tony Small              5   \n",
       "\n",
       "                                              Review      Review_DateSubmitted  \n",
       "0       better than any you can get at a restaurant! 2000-01-25 21:44:00+00:00  \n",
       "1  I cut back on the mayo, and made up the differ... 2001-10-17 16:49:59+00:00  \n",
       "2  i think i did something wrong because i could ... 2000-02-25 09:00:00+00:00  \n",
       "3  easily the best i have ever had.  juicy flavor... 2000-03-13 21:15:00+00:00  \n",
       "4                                 An excellent dish. 2000-03-28 12:51:00+00:00  "
      ]
     },
     "execution_count": 5,
     "metadata": {},
     "output_type": "execute_result"
    }
   ],
   "source": [
    "df.head()"
   ]
  },
  {
   "cell_type": "code",
   "execution_count": 6,
   "id": "48a8da0e",
   "metadata": {},
   "outputs": [
    {
     "data": {
      "text/plain": [
       "(1401982, 7)"
      ]
     },
     "execution_count": 6,
     "metadata": {},
     "output_type": "execute_result"
    }
   ],
   "source": [
    "df.shape"
   ]
  },
  {
   "cell_type": "markdown",
   "id": "7d1bbc90",
   "metadata": {},
   "source": [
    "Our dataset is very huge and unfortunately we do not have enough computational power to run our model on all of them. So we need an approach to choose rows. one way is to filter the recipes which has low number of reviews."
   ]
  },
  {
   "cell_type": "code",
   "execution_count": 7,
   "id": "32adbb3b",
   "metadata": {},
   "outputs": [
    {
     "name": "stdout",
     "output_type": "stream",
     "text": [
      "Number of recipes: 23429\n",
      "Total number of reviews:  225178\n"
     ]
    }
   ],
   "source": [
    "#filter recipes with less than 10 reviews\n",
    "counts = df['RecipeId'].value_counts()\n",
    "\n",
    "print('Number of recipes:',counts[counts>10].shape[0] )\n",
    "print('Total number of reviews: ',df[df['RecipeId'].isin(counts[counts>100].index)].shape[0])\n"
   ]
  },
  {
   "cell_type": "code",
   "execution_count": 8,
   "id": "ef3c9a40",
   "metadata": {},
   "outputs": [],
   "source": [
    "#recipes with more than 10 reviews \n",
    "df = df[df['RecipeId'].isin(counts[counts>10].index)]"
   ]
  },
  {
   "cell_type": "markdown",
   "id": "551a54b2",
   "metadata": {},
   "source": [
    "In order to avoid bias in our model we need to check for balance classes. Firstly, a FunkSVD model has been run and the too good FCP and other evaluation metrics remind us the importance of balancing data. So, in this our final model lets balance classes. As we have huge dataset we will do it by undersampling."
   ]
  },
  {
   "cell_type": "code",
   "execution_count": 9,
   "id": "d35523cb",
   "metadata": {},
   "outputs": [
    {
     "data": {
      "image/png": "[encoded data removed]",
      "text/plain": [
       "<Figure size 640x480 with 1 Axes>"
      ]
     },
     "metadata": {},
     "output_type": "display_data"
    }
   ],
   "source": [
    "#distribution of classes\n",
    "plt.figure()\n",
    "plt.bar(df[\"Review_Rating\"].value_counts().index, df[\"Review_Rating\"].value_counts().values, alpha=0.5, width= 0.4)\n",
    "plt.ylabel('Number of reviews')\n",
    "plt.xlabel('Review_Rating')\n",
    "plt.title(' Review Rating Distribution')\n",
    "plt.show()"
   ]
  },
  {
   "cell_type": "code",
   "execution_count": 10,
   "id": "471f09b0",
   "metadata": {},
   "outputs": [
    {
     "data": {
      "text/plain": [
       "5    563195\n",
       "4    102347\n",
       "0     43267\n",
       "3     23555\n",
       "2      9221\n",
       "1      8598\n",
       "Name: Review_Rating, dtype: int64"
      ]
     },
     "execution_count": 10,
     "metadata": {},
     "output_type": "execute_result"
    }
   ],
   "source": [
    "#number of rows in each class\n",
    "df[\"Review_Rating\"].value_counts()"
   ]
  },
  {
   "cell_type": "markdown",
   "id": "a27e84b2",
   "metadata": {},
   "source": [
    "Choose the smallest class and under sample the others to that size."
   ]
  },
  {
   "cell_type": "code",
   "execution_count": 11,
   "id": "224a5af6",
   "metadata": {},
   "outputs": [
    {
     "name": "stdout",
     "output_type": "stream",
     "text": [
      "(8598, 7) (8598, 7) (8598, 7) (8598, 7) (8598, 7) (8598, 7)\n"
     ]
    }
   ],
   "source": [
    "#under sampling\n",
    "df_0_sample = df[df['Review_Rating']==0].sample(n=8598, replace=False, random_state=1)\n",
    "df_1_sample = df[df['Review_Rating']==1].sample(n=8598, replace=False, random_state=1)\n",
    "df_2_sample = df[df['Review_Rating']==2].sample(n=8598, replace=False, random_state=1)\n",
    "df_3_sample = df[df['Review_Rating']==3].sample(n=8598, replace=False, random_state=1)\n",
    "df_4_sample = df[df['Review_Rating']==4].sample(n=8598, replace=False, random_state=1)\n",
    "df_5_sample = df[df['Review_Rating']==5].sample(n=8598, replace=False, random_state=1)\n",
    "\n",
    "#sanity check\n",
    "print(df_0_sample.shape,df_1_sample.shape,df_2_sample.shape,df_3_sample.shape,df_4_sample.shape,df_5_sample.shape)"
   ]
  },
  {
   "cell_type": "code",
   "execution_count": 12,
   "id": "36f6fbd6",
   "metadata": {},
   "outputs": [
    {
     "data": {
      "text/plain": [
       "(51588, 7)"
      ]
     },
     "execution_count": 12,
     "metadata": {},
     "output_type": "execute_result"
    }
   ],
   "source": [
    "#define the balance df\n",
    "df_balance = pd.concat([df_0_sample,df_1_sample,df_2_sample,df_3_sample,df_4_sample,df_5_sample])\n",
    "\n",
    "df_balance.shape"
   ]
  },
  {
   "cell_type": "code",
   "execution_count": 13,
   "id": "19de519d",
   "metadata": {},
   "outputs": [
    {
     "name": "stdout",
     "output_type": "stream",
     "text": [
      "Number of recipes: 16314\n"
     ]
    }
   ],
   "source": [
    "#sanity check\n",
    "counts = df_balance['RecipeId'].value_counts()\n",
    "print('Number of recipes:',counts.shape[0] )"
   ]
  },
  {
   "cell_type": "markdown",
   "id": "f48923a1",
   "metadata": {},
   "source": [
    "Modify dataset in our desired format of columns to be ready for modeling."
   ]
  },
  {
   "cell_type": "code",
   "execution_count": 14,
   "id": "374853e8",
   "metadata": {},
   "outputs": [
    {
     "name": "stderr",
     "output_type": "stream",
     "text": [
      "/var/folders/bg/nwrfqr3x53x6dwwjtgkf3bl80000gn/T/ipykernel_4918/846660306.py:3: SettingWithCopyWarning: \n",
      "A value is trying to be set on a copy of a slice from a DataFrame\n",
      "\n",
      "See the caveats in the documentation: https://pandas.pydata.org/pandas-docs/stable/user_guide/indexing.html#returning-a-view-versus-a-copy\n",
      "  df.drop(columns=['index'],inplace=True)\n"
     ]
    },
    {
     "data": {
      "text/html": [
       "<div>\n",
       "<style scoped>\n",
       "    .dataframe tbody tr th:only-of-type {\n",
       "        vertical-align: middle;\n",
       "    }\n",
       "\n",
       "    .dataframe tbody tr th {\n",
       "        vertical-align: top;\n",
       "    }\n",
       "\n",
       "    .dataframe thead th {\n",
       "        text-align: right;\n",
       "    }\n",
       "</style>\n",
       "<table border=\"1\" class=\"dataframe\">\n",
       "  <thead>\n",
       "    <tr style=\"text-align: right;\">\n",
       "      <th></th>\n",
       "      <th>RecipeId</th>\n",
       "      <th>Review_AuthorId</th>\n",
       "      <th>Review_Rating</th>\n",
       "    </tr>\n",
       "  </thead>\n",
       "  <tbody>\n",
       "    <tr>\n",
       "      <th>0</th>\n",
       "      <td>9954</td>\n",
       "      <td>528656</td>\n",
       "      <td>0</td>\n",
       "    </tr>\n",
       "    <tr>\n",
       "      <th>1</th>\n",
       "      <td>430350</td>\n",
       "      <td>2000017994</td>\n",
       "      <td>0</td>\n",
       "    </tr>\n",
       "    <tr>\n",
       "      <th>2</th>\n",
       "      <td>121823</td>\n",
       "      <td>2907464</td>\n",
       "      <td>0</td>\n",
       "    </tr>\n",
       "    <tr>\n",
       "      <th>3</th>\n",
       "      <td>88578</td>\n",
       "      <td>357567</td>\n",
       "      <td>0</td>\n",
       "    </tr>\n",
       "    <tr>\n",
       "      <th>4</th>\n",
       "      <td>132916</td>\n",
       "      <td>2001361374</td>\n",
       "      <td>0</td>\n",
       "    </tr>\n",
       "  </tbody>\n",
       "</table>\n",
       "</div>"
      ],
      "text/plain": [
       "   RecipeId  Review_AuthorId  Review_Rating\n",
       "0      9954           528656              0\n",
       "1    430350       2000017994              0\n",
       "2    121823          2907464              0\n",
       "3     88578           357567              0\n",
       "4    132916       2001361374              0"
      ]
     },
     "execution_count": 14,
     "metadata": {},
     "output_type": "execute_result"
    }
   ],
   "source": [
    "df = df_balance[['RecipeId','Review_AuthorId','Review_Rating']]\n",
    "df.reset_index(inplace=True)\n",
    "df.drop(columns=['index'],inplace=True)\n",
    "df.head()"
   ]
  },
  {
   "cell_type": "markdown",
   "id": "8a12c244",
   "metadata": {},
   "source": [
    "## Building User Item Utility matrix\n",
    "\n",
    "Lets first build R dataframe. R data frame includes all the users in rows and all the recipes in columns and each value would be the rating the user have given to that recipe."
   ]
  },
  {
   "cell_type": "code",
   "execution_count": 15,
   "id": "7e66b9eb",
   "metadata": {},
   "outputs": [],
   "source": [
    "users = df['Review_AuthorId'].unique()\n",
    "recipes = df['RecipeId'].unique()\n",
    "\n",
    "num_users = len(users)\n",
    "num_recipe = len(recipes)\n",
    "           \n",
    "# np.nan means they user has not reviewed the recipe\n",
    "R = np.full((num_users, num_recipe), np.nan)\n",
    "\n",
    "#maping ids to numbers from zero to length\n",
    "recipe_index = {id:i for i, id in enumerate(recipes)}\n",
    "author_index = {id:i for i, id in enumerate(users)}\n",
    "\n",
    "#Build the user-item matrix\n",
    "for row in df.itertuples(): \n",
    "    user = row[2]\n",
    "    recipe = row[1]\n",
    "    rating = row[3]\n",
    "    i = author_index[user]\n",
    "    j = recipe_index[recipe]\n",
    "    R[i, j] = rating\n",
    "    \n",
    "R_df = pd.DataFrame(data=R, index=users, columns=recipes)"
   ]
  },
  {
   "cell_type": "code",
   "execution_count": 16,
   "id": "02591be8",
   "metadata": {},
   "outputs": [
    {
     "data": {
      "text/html": [
       "<div>\n",
       "<style scoped>\n",
       "    .dataframe tbody tr th:only-of-type {\n",
       "        vertical-align: middle;\n",
       "    }\n",
       "\n",
       "    .dataframe tbody tr th {\n",
       "        vertical-align: top;\n",
       "    }\n",
       "\n",
       "    .dataframe thead th {\n",
       "        text-align: right;\n",
       "    }\n",
       "</style>\n",
       "<table border=\"1\" class=\"dataframe\">\n",
       "  <thead>\n",
       "    <tr style=\"text-align: right;\">\n",
       "      <th></th>\n",
       "      <th>9954</th>\n",
       "      <th>430350</th>\n",
       "      <th>121823</th>\n",
       "      <th>88578</th>\n",
       "      <th>132916</th>\n",
       "      <th>12677</th>\n",
       "      <th>38748</th>\n",
       "      <th>607</th>\n",
       "      <th>37023</th>\n",
       "      <th>80247</th>\n",
       "      <th>...</th>\n",
       "      <th>412634</th>\n",
       "      <th>282066</th>\n",
       "      <th>244839</th>\n",
       "      <th>24133</th>\n",
       "      <th>121959</th>\n",
       "      <th>66058</th>\n",
       "      <th>422998</th>\n",
       "      <th>67579</th>\n",
       "      <th>186365</th>\n",
       "      <th>263152</th>\n",
       "    </tr>\n",
       "  </thead>\n",
       "  <tbody>\n",
       "    <tr>\n",
       "      <th>528656</th>\n",
       "      <td>0.0</td>\n",
       "      <td>NaN</td>\n",
       "      <td>NaN</td>\n",
       "      <td>NaN</td>\n",
       "      <td>NaN</td>\n",
       "      <td>NaN</td>\n",
       "      <td>NaN</td>\n",
       "      <td>NaN</td>\n",
       "      <td>NaN</td>\n",
       "      <td>NaN</td>\n",
       "      <td>...</td>\n",
       "      <td>NaN</td>\n",
       "      <td>NaN</td>\n",
       "      <td>NaN</td>\n",
       "      <td>NaN</td>\n",
       "      <td>NaN</td>\n",
       "      <td>NaN</td>\n",
       "      <td>NaN</td>\n",
       "      <td>NaN</td>\n",
       "      <td>NaN</td>\n",
       "      <td>NaN</td>\n",
       "    </tr>\n",
       "    <tr>\n",
       "      <th>2000017994</th>\n",
       "      <td>NaN</td>\n",
       "      <td>0.0</td>\n",
       "      <td>NaN</td>\n",
       "      <td>NaN</td>\n",
       "      <td>NaN</td>\n",
       "      <td>NaN</td>\n",
       "      <td>NaN</td>\n",
       "      <td>NaN</td>\n",
       "      <td>NaN</td>\n",
       "      <td>NaN</td>\n",
       "      <td>...</td>\n",
       "      <td>NaN</td>\n",
       "      <td>NaN</td>\n",
       "      <td>NaN</td>\n",
       "      <td>NaN</td>\n",
       "      <td>NaN</td>\n",
       "      <td>NaN</td>\n",
       "      <td>NaN</td>\n",
       "      <td>NaN</td>\n",
       "      <td>NaN</td>\n",
       "      <td>NaN</td>\n",
       "    </tr>\n",
       "    <tr>\n",
       "      <th>2907464</th>\n",
       "      <td>NaN</td>\n",
       "      <td>NaN</td>\n",
       "      <td>0.0</td>\n",
       "      <td>NaN</td>\n",
       "      <td>NaN</td>\n",
       "      <td>NaN</td>\n",
       "      <td>NaN</td>\n",
       "      <td>NaN</td>\n",
       "      <td>NaN</td>\n",
       "      <td>NaN</td>\n",
       "      <td>...</td>\n",
       "      <td>NaN</td>\n",
       "      <td>NaN</td>\n",
       "      <td>NaN</td>\n",
       "      <td>NaN</td>\n",
       "      <td>NaN</td>\n",
       "      <td>NaN</td>\n",
       "      <td>NaN</td>\n",
       "      <td>NaN</td>\n",
       "      <td>NaN</td>\n",
       "      <td>NaN</td>\n",
       "    </tr>\n",
       "    <tr>\n",
       "      <th>357567</th>\n",
       "      <td>NaN</td>\n",
       "      <td>NaN</td>\n",
       "      <td>NaN</td>\n",
       "      <td>0.0</td>\n",
       "      <td>NaN</td>\n",
       "      <td>NaN</td>\n",
       "      <td>NaN</td>\n",
       "      <td>NaN</td>\n",
       "      <td>NaN</td>\n",
       "      <td>NaN</td>\n",
       "      <td>...</td>\n",
       "      <td>NaN</td>\n",
       "      <td>NaN</td>\n",
       "      <td>NaN</td>\n",
       "      <td>NaN</td>\n",
       "      <td>NaN</td>\n",
       "      <td>NaN</td>\n",
       "      <td>NaN</td>\n",
       "      <td>NaN</td>\n",
       "      <td>NaN</td>\n",
       "      <td>NaN</td>\n",
       "    </tr>\n",
       "    <tr>\n",
       "      <th>2001361374</th>\n",
       "      <td>NaN</td>\n",
       "      <td>NaN</td>\n",
       "      <td>NaN</td>\n",
       "      <td>NaN</td>\n",
       "      <td>0.0</td>\n",
       "      <td>NaN</td>\n",
       "      <td>NaN</td>\n",
       "      <td>NaN</td>\n",
       "      <td>NaN</td>\n",
       "      <td>NaN</td>\n",
       "      <td>...</td>\n",
       "      <td>NaN</td>\n",
       "      <td>NaN</td>\n",
       "      <td>NaN</td>\n",
       "      <td>NaN</td>\n",
       "      <td>NaN</td>\n",
       "      <td>NaN</td>\n",
       "      <td>NaN</td>\n",
       "      <td>NaN</td>\n",
       "      <td>NaN</td>\n",
       "      <td>NaN</td>\n",
       "    </tr>\n",
       "    <tr>\n",
       "      <th>...</th>\n",
       "      <td>...</td>\n",
       "      <td>...</td>\n",
       "      <td>...</td>\n",
       "      <td>...</td>\n",
       "      <td>...</td>\n",
       "      <td>...</td>\n",
       "      <td>...</td>\n",
       "      <td>...</td>\n",
       "      <td>...</td>\n",
       "      <td>...</td>\n",
       "      <td>...</td>\n",
       "      <td>...</td>\n",
       "      <td>...</td>\n",
       "      <td>...</td>\n",
       "      <td>...</td>\n",
       "      <td>...</td>\n",
       "      <td>...</td>\n",
       "      <td>...</td>\n",
       "      <td>...</td>\n",
       "      <td>...</td>\n",
       "      <td>...</td>\n",
       "    </tr>\n",
       "    <tr>\n",
       "      <th>1983351</th>\n",
       "      <td>NaN</td>\n",
       "      <td>NaN</td>\n",
       "      <td>NaN</td>\n",
       "      <td>NaN</td>\n",
       "      <td>NaN</td>\n",
       "      <td>NaN</td>\n",
       "      <td>NaN</td>\n",
       "      <td>NaN</td>\n",
       "      <td>NaN</td>\n",
       "      <td>NaN</td>\n",
       "      <td>...</td>\n",
       "      <td>NaN</td>\n",
       "      <td>NaN</td>\n",
       "      <td>NaN</td>\n",
       "      <td>NaN</td>\n",
       "      <td>NaN</td>\n",
       "      <td>NaN</td>\n",
       "      <td>NaN</td>\n",
       "      <td>NaN</td>\n",
       "      <td>NaN</td>\n",
       "      <td>NaN</td>\n",
       "    </tr>\n",
       "    <tr>\n",
       "      <th>255346</th>\n",
       "      <td>NaN</td>\n",
       "      <td>NaN</td>\n",
       "      <td>NaN</td>\n",
       "      <td>NaN</td>\n",
       "      <td>NaN</td>\n",
       "      <td>NaN</td>\n",
       "      <td>NaN</td>\n",
       "      <td>NaN</td>\n",
       "      <td>NaN</td>\n",
       "      <td>NaN</td>\n",
       "      <td>...</td>\n",
       "      <td>NaN</td>\n",
       "      <td>NaN</td>\n",
       "      <td>NaN</td>\n",
       "      <td>NaN</td>\n",
       "      <td>NaN</td>\n",
       "      <td>NaN</td>\n",
       "      <td>NaN</td>\n",
       "      <td>NaN</td>\n",
       "      <td>NaN</td>\n",
       "      <td>NaN</td>\n",
       "    </tr>\n",
       "    <tr>\n",
       "      <th>631878</th>\n",
       "      <td>NaN</td>\n",
       "      <td>NaN</td>\n",
       "      <td>NaN</td>\n",
       "      <td>NaN</td>\n",
       "      <td>NaN</td>\n",
       "      <td>NaN</td>\n",
       "      <td>NaN</td>\n",
       "      <td>NaN</td>\n",
       "      <td>NaN</td>\n",
       "      <td>NaN</td>\n",
       "      <td>...</td>\n",
       "      <td>NaN</td>\n",
       "      <td>NaN</td>\n",
       "      <td>NaN</td>\n",
       "      <td>NaN</td>\n",
       "      <td>NaN</td>\n",
       "      <td>NaN</td>\n",
       "      <td>NaN</td>\n",
       "      <td>NaN</td>\n",
       "      <td>NaN</td>\n",
       "      <td>5.0</td>\n",
       "    </tr>\n",
       "    <tr>\n",
       "      <th>2870378</th>\n",
       "      <td>NaN</td>\n",
       "      <td>NaN</td>\n",
       "      <td>NaN</td>\n",
       "      <td>NaN</td>\n",
       "      <td>NaN</td>\n",
       "      <td>NaN</td>\n",
       "      <td>NaN</td>\n",
       "      <td>NaN</td>\n",
       "      <td>NaN</td>\n",
       "      <td>NaN</td>\n",
       "      <td>...</td>\n",
       "      <td>NaN</td>\n",
       "      <td>NaN</td>\n",
       "      <td>NaN</td>\n",
       "      <td>NaN</td>\n",
       "      <td>NaN</td>\n",
       "      <td>NaN</td>\n",
       "      <td>NaN</td>\n",
       "      <td>NaN</td>\n",
       "      <td>NaN</td>\n",
       "      <td>NaN</td>\n",
       "    </tr>\n",
       "    <tr>\n",
       "      <th>2336635</th>\n",
       "      <td>NaN</td>\n",
       "      <td>NaN</td>\n",
       "      <td>NaN</td>\n",
       "      <td>NaN</td>\n",
       "      <td>NaN</td>\n",
       "      <td>NaN</td>\n",
       "      <td>NaN</td>\n",
       "      <td>NaN</td>\n",
       "      <td>NaN</td>\n",
       "      <td>NaN</td>\n",
       "      <td>...</td>\n",
       "      <td>NaN</td>\n",
       "      <td>NaN</td>\n",
       "      <td>NaN</td>\n",
       "      <td>NaN</td>\n",
       "      <td>NaN</td>\n",
       "      <td>NaN</td>\n",
       "      <td>NaN</td>\n",
       "      <td>NaN</td>\n",
       "      <td>NaN</td>\n",
       "      <td>NaN</td>\n",
       "    </tr>\n",
       "  </tbody>\n",
       "</table>\n",
       "<p>31507 rows × 16314 columns</p>\n",
       "</div>"
      ],
      "text/plain": [
       "            9954    430350  121823  88578   132916  12677   38748   607     \\\n",
       "528656         0.0     NaN     NaN     NaN     NaN     NaN     NaN     NaN   \n",
       "2000017994     NaN     0.0     NaN     NaN     NaN     NaN     NaN     NaN   \n",
       "2907464        NaN     NaN     0.0     NaN     NaN     NaN     NaN     NaN   \n",
       "357567         NaN     NaN     NaN     0.0     NaN     NaN     NaN     NaN   \n",
       "2001361374     NaN     NaN     NaN     NaN     0.0     NaN     NaN     NaN   \n",
       "...            ...     ...     ...     ...     ...     ...     ...     ...   \n",
       "1983351        NaN     NaN     NaN     NaN     NaN     NaN     NaN     NaN   \n",
       "255346         NaN     NaN     NaN     NaN     NaN     NaN     NaN     NaN   \n",
       "631878         NaN     NaN     NaN     NaN     NaN     NaN     NaN     NaN   \n",
       "2870378        NaN     NaN     NaN     NaN     NaN     NaN     NaN     NaN   \n",
       "2336635        NaN     NaN     NaN     NaN     NaN     NaN     NaN     NaN   \n",
       "\n",
       "            37023   80247   ...  412634  282066  244839  24133   121959  \\\n",
       "528656         NaN     NaN  ...     NaN     NaN     NaN     NaN     NaN   \n",
       "2000017994     NaN     NaN  ...     NaN     NaN     NaN     NaN     NaN   \n",
       "2907464        NaN     NaN  ...     NaN     NaN     NaN     NaN     NaN   \n",
       "357567         NaN     NaN  ...     NaN     NaN     NaN     NaN     NaN   \n",
       "2001361374     NaN     NaN  ...     NaN     NaN     NaN     NaN     NaN   \n",
       "...            ...     ...  ...     ...     ...     ...     ...     ...   \n",
       "1983351        NaN     NaN  ...     NaN     NaN     NaN     NaN     NaN   \n",
       "255346         NaN     NaN  ...     NaN     NaN     NaN     NaN     NaN   \n",
       "631878         NaN     NaN  ...     NaN     NaN     NaN     NaN     NaN   \n",
       "2870378        NaN     NaN  ...     NaN     NaN     NaN     NaN     NaN   \n",
       "2336635        NaN     NaN  ...     NaN     NaN     NaN     NaN     NaN   \n",
       "\n",
       "            66058   422998  67579   186365  263152  \n",
       "528656         NaN     NaN     NaN     NaN     NaN  \n",
       "2000017994     NaN     NaN     NaN     NaN     NaN  \n",
       "2907464        NaN     NaN     NaN     NaN     NaN  \n",
       "357567         NaN     NaN     NaN     NaN     NaN  \n",
       "2001361374     NaN     NaN     NaN     NaN     NaN  \n",
       "...            ...     ...     ...     ...     ...  \n",
       "1983351        NaN     NaN     NaN     NaN     NaN  \n",
       "255346         NaN     NaN     NaN     NaN     NaN  \n",
       "631878         NaN     NaN     NaN     NaN     5.0  \n",
       "2870378        NaN     NaN     NaN     NaN     NaN  \n",
       "2336635        NaN     NaN     NaN     NaN     NaN  \n",
       "\n",
       "[31507 rows x 16314 columns]"
      ]
     },
     "execution_count": 16,
     "metadata": {},
     "output_type": "execute_result"
    }
   ],
   "source": [
    "#sanity check\n",
    "R_df"
   ]
  },
  {
   "cell_type": "markdown",
   "id": "781bae15",
   "metadata": {},
   "source": [
    "## Funk Singular Value Decomposition (FunkSVD)\n",
    "Now by making use of FunkSVD we can defactorize the R matrix."
   ]
  },
  {
   "cell_type": "code",
   "execution_count": 17,
   "id": "768d0509",
   "metadata": {},
   "outputs": [],
   "source": [
    "from surprise import Dataset\n",
    "from surprise.reader import Reader\n",
    "from surprise.prediction_algorithms.matrix_factorization import SVD as FunkSVD"
   ]
  },
  {
   "cell_type": "code",
   "execution_count": 18,
   "id": "cdcb7035",
   "metadata": {},
   "outputs": [],
   "source": [
    "# Predicting user rating for a recipe using FunkSVD Function\n",
    "\n",
    "\n",
    "def Rating_FunkSVD(df,user_id,recipe_id):#input data frame should include recipeId, userId, rating columns respectively\n",
    "    \n",
    "    #Surprise format data\n",
    "    my_dataset = Dataset.load_from_df(df, Reader(rating_scale=(1, 5)))\n",
    "    my_train_dataset = my_dataset.build_full_trainset()\n",
    "    \n",
    "    #initial algorithm\n",
    "    my_algorithm = FunkSVD(n_factors=10, \n",
    "                       n_epochs=100, \n",
    "                       lr_all=0.1,    # Learning rate for each epoch\n",
    "                       biased=False,  # This forces the algorithm to store all latent information in the matrices\n",
    "                       verbose=0)\n",
    "    #fit algorithm\n",
    "    my_algorithm.fit(my_train_dataset)\n",
    "    \n",
    "    #user matrix\n",
    "    U = my_algorithm.pu\n",
    "    \n",
    "    #recipe matrix\n",
    "    Re = my_algorithm.qi.T\n",
    "    \n",
    "    # find the inner representation of the user\n",
    "    inner_user_id = my_train_dataset.to_inner_uid(user_id)  \n",
    "    user_profile = U[inner_user_id]\n",
    "    \n",
    "    # find the inner representation of the item\n",
    "    inner_recipe_id = my_train_dataset.to_inner_iid(recipe_id) \n",
    "    recipe_profile = Re[:, inner_recipe_id]\n",
    "    \n",
    "    #predict rating\n",
    "    expected_rating = np.dot(user_profile, recipe_profile)\n",
    "    \n",
    "    return expected_rating;\n",
    "    \n",
    "    \n",
    "    "
   ]
  },
  {
   "cell_type": "markdown",
   "id": "30942106",
   "metadata": {},
   "source": [
    "### Test the Model\n",
    "Lets test it with a sample user and a sample recipe."
   ]
  },
  {
   "cell_type": "code",
   "execution_count": 19,
   "id": "3d939483",
   "metadata": {},
   "outputs": [],
   "source": [
    "#First sort columns of input dataframe --> beacuse it has been hard coded\n",
    "sorted_df = df_balance[['Review_AuthorId','RecipeId','Review_Rating']]"
   ]
  },
  {
   "cell_type": "code",
   "execution_count": 20,
   "id": "9d123a10",
   "metadata": {},
   "outputs": [
    {
     "data": {
      "text/html": [
       "<div>\n",
       "<style scoped>\n",
       "    .dataframe tbody tr th:only-of-type {\n",
       "        vertical-align: middle;\n",
       "    }\n",
       "\n",
       "    .dataframe tbody tr th {\n",
       "        vertical-align: top;\n",
       "    }\n",
       "\n",
       "    .dataframe thead th {\n",
       "        text-align: right;\n",
       "    }\n",
       "</style>\n",
       "<table border=\"1\" class=\"dataframe\">\n",
       "  <thead>\n",
       "    <tr style=\"text-align: right;\">\n",
       "      <th></th>\n",
       "      <th>Review_AuthorId</th>\n",
       "      <th>RecipeId</th>\n",
       "      <th>Review_Rating</th>\n",
       "    </tr>\n",
       "  </thead>\n",
       "  <tbody>\n",
       "    <tr>\n",
       "      <th>922993</th>\n",
       "      <td>1525745</td>\n",
       "      <td>134974</td>\n",
       "      <td>2</td>\n",
       "    </tr>\n",
       "  </tbody>\n",
       "</table>\n",
       "</div>"
      ],
      "text/plain": [
       "        Review_AuthorId  RecipeId  Review_Rating\n",
       "922993          1525745    134974              2"
      ]
     },
     "execution_count": 20,
     "metadata": {},
     "output_type": "execute_result"
    }
   ],
   "source": [
    "sorted_df.sample()"
   ]
  },
  {
   "cell_type": "code",
   "execution_count": 21,
   "id": "07a28021",
   "metadata": {},
   "outputs": [
    {
     "data": {
      "text/plain": [
       "3.980000837861337"
      ]
     },
     "execution_count": 21,
     "metadata": {},
     "output_type": "execute_result"
    }
   ],
   "source": [
    "#dont forget the first input is authorid and the second is review\n",
    "Rating_FunkSVD(sorted_df,20828,3846)"
   ]
  },
  {
   "cell_type": "markdown",
   "id": "01a7b4ac",
   "metadata": {},
   "source": [
    "The actual rating for user 20828 for the recipe 3846 is 4 and the model is predicting this 3.98.:)\n",
    "\n",
    "Now we can write a function to input a user and then it would predict the rating for all the recipes and sort base on the highest rating and recommend the top one."
   ]
  },
  {
   "cell_type": "markdown",
   "id": "68937757",
   "metadata": {},
   "source": [
    "Now let's see how is it working for other ones and check the metrics."
   ]
  },
  {
   "cell_type": "markdown",
   "id": "3d465187",
   "metadata": {},
   "source": [
    "### Accuracy of FunkSVD "
   ]
  },
  {
   "cell_type": "code",
   "execution_count": 22,
   "id": "52e86978",
   "metadata": {},
   "outputs": [],
   "source": [
    "from surprise import accuracy\n",
    "from surprise.model_selection import train_test_split\n",
    "\n",
    "my_dataset = Dataset.load_from_df(df, Reader(rating_scale=(1, 5)))\n",
    "my_train_dataset = my_dataset.build_full_trainset()\n",
    "    \n",
    "#initial algorithm\n",
    "my_algorithm = FunkSVD(n_factors=10, \n",
    "                       n_epochs=100, \n",
    "                       lr_all=0.1,    # Learning rate for each epoch\n",
    "                       biased=False,  # This forces the algorithm to store all latent information in the matrices\n",
    "                       verbose=0)\n",
    "#fit algorithm\n",
    "my_algorithm.fit(my_train_dataset)\n",
    "\n",
    "# The surprise package doesn't allow you to test on the trainset we built\n",
    "my_train_dataset, my_test_dataset = train_test_split(my_dataset, test_size=0.5)\n",
    "\n",
    "predictions = my_algorithm.test(my_test_dataset)"
   ]
  },
  {
   "cell_type": "code",
   "execution_count": 23,
   "id": "63b1cf81",
   "metadata": {},
   "outputs": [
    {
     "name": "stdout",
     "output_type": "stream",
     "text": [
      "0.4112345071967373\n"
     ]
    }
   ],
   "source": [
    "# RMSE\n",
    "RMSE = accuracy.rmse(predictions, verbose=False)\n",
    "print(RMSE)"
   ]
  },
  {
   "cell_type": "code",
   "execution_count": 24,
   "id": "9d631fef",
   "metadata": {},
   "outputs": [
    {
     "name": "stdout",
     "output_type": "stream",
     "text": [
      "0.1691138199093434\n"
     ]
    }
   ],
   "source": [
    "# MSE\n",
    "MSE = accuracy.mse(predictions, verbose=False)\n",
    "print(MSE)"
   ]
  },
  {
   "cell_type": "code",
   "execution_count": 25,
   "id": "984870b3",
   "metadata": {},
   "outputs": [
    {
     "name": "stdout",
     "output_type": "stream",
     "text": [
      "0.18954446115278484\n"
     ]
    }
   ],
   "source": [
    "# MAE\n",
    "MAE = accuracy.mae(predictions, verbose=False)\n",
    "print(MAE)"
   ]
  },
  {
   "cell_type": "code",
   "execution_count": 26,
   "id": "f3a25001",
   "metadata": {},
   "outputs": [
    {
     "name": "stdout",
     "output_type": "stream",
     "text": [
      "0.9055959617027479\n"
     ]
    }
   ],
   "source": [
    "# FCP - Fraction of Concordant Pairs, the fraction of pairs whose relative ranking order is correct\n",
    "\n",
    "FCP = accuracy.fcp(predictions, verbose=False)\n",
    "print(FCP) "
   ]
  },
  {
   "cell_type": "markdown",
   "id": "ea241ed9",
   "metadata": {},
   "source": [
    "As we can see quantitively our FunkSVD is doing a good job in terms of predicting the rating each user can give to a recipe. For further steps we can tune our hyperprameters like n_factors, n_epochs, and lr_all."
   ]
  },
  {
   "cell_type": "markdown",
   "id": "c3ff937c",
   "metadata": {},
   "source": [
    "---"
   ]
  },
  {
   "cell_type": "markdown",
   "id": "da4401c7",
   "metadata": {},
   "source": [
    "## Recommending with FunkSVD - First Aproach \n",
    "Now for making recommendations we need to predict the user rating for all recipes which they had not rated yet and recommed them the best ones."
   ]
  },
  {
   "cell_type": "markdown",
   "id": "1ffb2ecc",
   "metadata": {},
   "source": [
    "As we have 16K different recipes and calculating predicted rating for all of them is very computationaly expensive, for now we just choose a sample of them."
   ]
  },
  {
   "cell_type": "code",
   "execution_count": 27,
   "id": "0bb42001",
   "metadata": {},
   "outputs": [],
   "source": [
    "#choose a sample of recipes\n",
    "unique_RecipeIds = sorted_df['RecipeId'].unique()\n",
    "sample_recipes = unique_RecipeIds[-20:]"
   ]
  },
  {
   "cell_type": "code",
   "execution_count": 28,
   "id": "899c796d",
   "metadata": {},
   "outputs": [
    {
     "data": {
      "text/plain": [
       "array([381852,  61389,  95386, 199210,  52192, 246888, 238907,  85197,\n",
       "       154537, 197977, 412634, 282066, 244839,  24133, 121959,  66058,\n",
       "       422998,  67579, 186365, 263152], dtype=int32)"
      ]
     },
     "execution_count": 28,
     "metadata": {},
     "output_type": "execute_result"
    }
   ],
   "source": [
    "#sanity check\n",
    "sample_recipes"
   ]
  },
  {
   "cell_type": "code",
   "execution_count": 29,
   "id": "fc3c1cf4",
   "metadata": {},
   "outputs": [
    {
     "data": {
      "text/plain": [
       "218535        169\n",
       "55729          93\n",
       "198154         90\n",
       "140132         83\n",
       "369715         68\n",
       "             ... \n",
       "2001580795      1\n",
       "1578949         1\n",
       "2002279336      1\n",
       "1800204000      1\n",
       "2336635         1\n",
       "Name: Review_AuthorId, Length: 31507, dtype: int64"
      ]
     },
     "execution_count": 29,
     "metadata": {},
     "output_type": "execute_result"
    }
   ],
   "source": [
    "#choose a authorid\n",
    "sorted_df['Review_AuthorId'].value_counts()"
   ]
  },
  {
   "cell_type": "code",
   "execution_count": 30,
   "id": "88c3e879",
   "metadata": {},
   "outputs": [
    {
     "data": {
      "text/html": [
       "<div>\n",
       "<style scoped>\n",
       "    .dataframe tbody tr th:only-of-type {\n",
       "        vertical-align: middle;\n",
       "    }\n",
       "\n",
       "    .dataframe tbody tr th {\n",
       "        vertical-align: top;\n",
       "    }\n",
       "\n",
       "    .dataframe thead th {\n",
       "        text-align: right;\n",
       "    }\n",
       "</style>\n",
       "<table border=\"1\" class=\"dataframe\">\n",
       "  <thead>\n",
       "    <tr style=\"text-align: right;\">\n",
       "      <th></th>\n",
       "      <th>recipeid</th>\n",
       "      <th>predicted_rating</th>\n",
       "    </tr>\n",
       "  </thead>\n",
       "  <tbody>\n",
       "    <tr>\n",
       "      <th>12</th>\n",
       "      <td>244839</td>\n",
       "      <td>1.975645</td>\n",
       "    </tr>\n",
       "    <tr>\n",
       "      <th>9</th>\n",
       "      <td>197977</td>\n",
       "      <td>1.862588</td>\n",
       "    </tr>\n",
       "    <tr>\n",
       "      <th>3</th>\n",
       "      <td>199210</td>\n",
       "      <td>1.358781</td>\n",
       "    </tr>\n",
       "    <tr>\n",
       "      <th>11</th>\n",
       "      <td>282066</td>\n",
       "      <td>0.984056</td>\n",
       "    </tr>\n",
       "    <tr>\n",
       "      <th>16</th>\n",
       "      <td>422998</td>\n",
       "      <td>0.816726</td>\n",
       "    </tr>\n",
       "  </tbody>\n",
       "</table>\n",
       "</div>"
      ],
      "text/plain": [
       "    recipeid  predicted_rating\n",
       "12    244839          1.975645\n",
       "9     197977          1.862588\n",
       "3     199210          1.358781\n",
       "11    282066          0.984056\n",
       "16    422998          0.816726"
      ]
     },
     "execution_count": 30,
     "metadata": {},
     "output_type": "execute_result"
    }
   ],
   "source": [
    "#choosen user\n",
    "Userid = 55729\n",
    "\n",
    "#find already rated recipes to not recommend similar recipes\n",
    "already_rated = sorted_df[sorted_df['Review_AuthorId']==Userid]['RecipeId']\n",
    "\n",
    "#empty list\n",
    "recipeids = []\n",
    "predicted_ratings = []\n",
    "\n",
    "for recipe in sample_recipes:\n",
    "    \n",
    "#    #check if already has been rated\n",
    "     if recipe not in already_rated:\n",
    "        \n",
    "        #predict the rating\n",
    "        #first input is authorid and the second is review\n",
    "        predicted_ratings.append(Rating_FunkSVD(sorted_df,Userid,recipe))\n",
    "        recipeids.append(recipe)\n",
    "    \n",
    "\n",
    "# create a dataframe of predicted ratings    \n",
    "recom_df = pd.DataFrame({'recipeid': recipeids, 'predicted_rating': predicted_ratings})\n",
    "recom_df.sort_values('predicted_rating', ascending=False).head(5)        "
   ]
  },
  {
   "cell_type": "markdown",
   "id": "90c8515b",
   "metadata": {},
   "source": [
    "## Recommending with FunkSVD - Second Aproach \n",
    "\n",
    "The other approach for recommending with FunckSVD is predicting ratings for all the recipes inside the function , sort them and return the top ones. This would be way more faster and we dont need to filter for some recipes any more."
   ]
  },
  {
   "cell_type": "code",
   "execution_count": 95,
   "id": "1506b774",
   "metadata": {},
   "outputs": [],
   "source": [
    "# finding the best rated recipes for certain user\n",
    "\n",
    "\n",
    "def recom_Rating_FunkSVD(df,user_id):\n",
    "    \n",
    "    #Surprise format data\n",
    "    my_dataset = Dataset.load_from_df(sorted_df, Reader(rating_scale=(1, 5)))\n",
    "    my_train_dataset = my_dataset.build_full_trainset()\n",
    "    \n",
    "    my_algorithm = FunkSVD(n_factors=10,n_epochs=100, \n",
    "    lr_all=0.1,    # Learning rate for each epoch\n",
    "    biased=False,  # This forces the algorithm to store all latent information in the matrices\n",
    "    verbose=0,random_state=10)\n",
    "    \n",
    "    my_algorithm.fit(my_train_dataset)\n",
    "    \n",
    "    U = my_algorithm.pu\n",
    "    Re = my_algorithm.qi.T\n",
    "\n",
    "    \n",
    "    # find the inner representation of the user\n",
    "    inner_user_id = my_train_dataset.to_inner_uid(user_id)  \n",
    "    user_profile = U[inner_user_id]\n",
    "    \n",
    "    #ALL RECIPES\n",
    "    recipe_profile = Re[:, :]\n",
    "    \n",
    "    #predict rating\n",
    "    expected_rating = np.dot(user_profile, recipe_profile)\n",
    "    \n",
    "    #match ratings with recipeids\n",
    "    predicted_df = pd.DataFrame({'recipeid':df['RecipeId'].unique(),'predicted_rating':expected_rating})\n",
    "    predicted_df = predicted_df[~(predicted_df['recipeid'].isin(rated_recipes_info['RecipeId'].values))]\n",
    "    \n",
    "    #top rated recipes IDs\n",
    "    top_recipes_id = predicted_df.sort_values('predicted_rating',ascending=False).head()['recipeid'].values\n",
    "    \n",
    "    #Find recipe names\n",
    "    out_put = recipe_df[recipe_df['RecipeId'].isin(top_recipes_id)]['Name']\n",
    "    \n",
    "    return out_put"
   ]
  },
  {
   "cell_type": "markdown",
   "id": "3a64d548",
   "metadata": {},
   "source": [
    "This function returns the recipeid not the names. for finding the names we need to use our main recipe dataset."
   ]
  },
  {
   "cell_type": "code",
   "execution_count": 35,
   "id": "ba28ff4a",
   "metadata": {},
   "outputs": [],
   "source": [
    "#import recipe dataset\n",
    "recipe_df = pd.read_parquet(\"Raw Data/recipes.parquet\")"
   ]
  },
  {
   "cell_type": "markdown",
   "id": "bb1921b8",
   "metadata": {},
   "source": [
    "Now, lets test it with a user."
   ]
  },
  {
   "cell_type": "code",
   "execution_count": 96,
   "id": "9d737ca0",
   "metadata": {},
   "outputs": [
    {
     "data": {
      "text/html": [
       "<div>\n",
       "<style scoped>\n",
       "    .dataframe tbody tr th:only-of-type {\n",
       "        vertical-align: middle;\n",
       "    }\n",
       "\n",
       "    .dataframe tbody tr th {\n",
       "        vertical-align: top;\n",
       "    }\n",
       "\n",
       "    .dataframe thead th {\n",
       "        text-align: right;\n",
       "    }\n",
       "</style>\n",
       "<table border=\"1\" class=\"dataframe\">\n",
       "  <thead>\n",
       "    <tr style=\"text-align: right;\">\n",
       "      <th></th>\n",
       "      <th>auhorid</th>\n",
       "      <th>NumberofRate</th>\n",
       "    </tr>\n",
       "  </thead>\n",
       "  <tbody>\n",
       "    <tr>\n",
       "      <th>1417</th>\n",
       "      <td>420929</td>\n",
       "      <td>5</td>\n",
       "    </tr>\n",
       "    <tr>\n",
       "      <th>1418</th>\n",
       "      <td>235355</td>\n",
       "      <td>5</td>\n",
       "    </tr>\n",
       "    <tr>\n",
       "      <th>1419</th>\n",
       "      <td>567976</td>\n",
       "      <td>5</td>\n",
       "    </tr>\n",
       "    <tr>\n",
       "      <th>1420</th>\n",
       "      <td>1064617</td>\n",
       "      <td>5</td>\n",
       "    </tr>\n",
       "    <tr>\n",
       "      <th>1421</th>\n",
       "      <td>589581</td>\n",
       "      <td>5</td>\n",
       "    </tr>\n",
       "  </tbody>\n",
       "</table>\n",
       "</div>"
      ],
      "text/plain": [
       "      auhorid  NumberofRate\n",
       "1417   420929             5\n",
       "1418   235355             5\n",
       "1419   567976             5\n",
       "1420  1064617             5\n",
       "1421   589581             5"
      ]
     },
     "execution_count": 96,
     "metadata": {},
     "output_type": "execute_result"
    }
   ],
   "source": [
    "#choose a userid who rated about 5 recipes\n",
    "\n",
    "my_sample =pd.DataFrame({'auhorid':sorted_df['Review_AuthorId'].value_counts().index, 'NumberofRate': sorted_df['Review_AuthorId'].value_counts().values})\n",
    "\n",
    "my_sample[my_sample['NumberofRate']>4].tail()\n"
   ]
  },
  {
   "cell_type": "code",
   "execution_count": 112,
   "id": "f9525972",
   "metadata": {},
   "outputs": [
    {
     "name": "stdout",
     "output_type": "stream",
     "text": [
      "                                            Name  Review_Rating  RecipeId\n",
      "4                         Hot Feta Artichoke Dip              4     30914\n",
      "1     Orange Julius With  the Secret Ingredient!              3    108936\n",
      "2                            Banana Banana Bread              3     25885\n",
      "3                              Crazy Crust Pizza              3     29002\n",
      "0  Baked French Toast Casserole With Maple Syrup              0     90246\n"
     ]
    }
   ],
   "source": [
    "###### Make sure to run this code; it affects the filtering in the function to avoid recommending the recipes already rated\n",
    "############################\n",
    "\n",
    "\n",
    "#what recipes has rated --> input author ID\n",
    "\n",
    "rated_recipe = sorted_df[sorted_df['Review_AuthorId']==1064617]\n",
    "recipe_info = recipe_df[recipe_df['RecipeId'].isin(rated_recipe['RecipeId'].values)]\n",
    "merged = pd.merge(rated_recipe,recipe_info, left_on='RecipeId', right_on='RecipeId')\n",
    "rated_recipes_info = merged[['Name','Review_Rating','RecipeId']].sort_values('Review_Rating',ascending=False)\n",
    "print(rated_recipes_info)\n"
   ]
  },
  {
   "cell_type": "code",
   "execution_count": 113,
   "id": "d03138f6",
   "metadata": {},
   "outputs": [
    {
     "data": {
      "text/plain": [
       "9037                      Crispy Parmesan Roasted Asparagus\n",
       "9381                                         Ginger Chicken\n",
       "24105                            Ice Cream Sandwich Dessert\n",
       "68651                            Kittencal's Caramel Apples\n",
       "248413    Delicious Chewy Peanut Butter Chocolate Chip O...\n",
       "Name: Name, dtype: object"
      ]
     },
     "execution_count": 113,
     "metadata": {},
     "output_type": "execute_result"
    }
   ],
   "source": [
    "#use sorted df and the UserID\n",
    "recom_Rating_FunkSVD(sorted_df,1064617)"
   ]
  },
  {
   "cell_type": "code",
   "execution_count": null,
   "id": "edf06895",
   "metadata": {},
   "outputs": [],
   "source": []
  }
 ],
 "metadata": {
  "kernelspec": {
   "display_name": "Python 3 (ipykernel)",
   "language": "python",
   "name": "python3"
  },
  "language_info": {
   "codemirror_mode": {
    "name": "ipython",
    "version": 3
   },
   "file_extension": ".py",
   "mimetype": "text/x-python",
   "name": "python",
   "nbconvert_exporter": "python",
   "pygments_lexer": "ipython3",
   "version": "3.9.12"
  }
 },
 "nbformat": 4,
 "nbformat_minor": 5
}
